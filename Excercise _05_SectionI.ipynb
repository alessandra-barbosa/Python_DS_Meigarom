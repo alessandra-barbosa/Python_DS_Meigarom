{
 "cells": [
  {
   "cell_type": "markdown",
   "id": "sound-indian",
   "metadata": {},
   "source": [
    "# Aula 5 Funçoes e estruturas"
   ]
  },
  {
   "cell_type": "markdown",
   "id": "pleasant-dialogue",
   "metadata": {
    "ExecuteTime": {
     "end_time": "2021-02-16T12:40:13.616629Z",
     "start_time": "2021-02-16T12:40:13.611633Z"
    },
    "heading_collapsed": true
   },
   "source": [
    "## Imports"
   ]
  },
  {
   "cell_type": "code",
   "execution_count": 84,
   "id": "fiscal-final",
   "metadata": {
    "ExecuteTime": {
     "end_time": "2021-02-16T16:23:13.450520Z",
     "start_time": "2021-02-16T16:23:13.164165Z"
    },
    "hidden": true
   },
   "outputs": [],
   "source": [
    "import pandas as pd\n",
    "import numpy as np\n",
    "from geopy.geocoders import Nominatim"
   ]
  },
  {
   "cell_type": "markdown",
   "id": "binary-wings",
   "metadata": {
    "heading_collapsed": true
   },
   "source": [
    "## Loads"
   ]
  },
  {
   "cell_type": "code",
   "execution_count": 56,
   "id": "brief-fitting",
   "metadata": {
    "ExecuteTime": {
     "end_time": "2021-02-16T16:12:34.813666Z",
     "start_time": "2021-02-16T16:12:34.751669Z"
    },
    "hidden": true
   },
   "outputs": [],
   "source": [
    "df=pd.read_csv('datasets/kc_house_data.csv')"
   ]
  },
  {
   "cell_type": "markdown",
   "id": "strong-paste",
   "metadata": {
    "heading_collapsed": true
   },
   "source": [
    "## Data dimensions"
   ]
  },
  {
   "cell_type": "code",
   "execution_count": 57,
   "id": "blind-carry",
   "metadata": {
    "ExecuteTime": {
     "end_time": "2021-02-16T16:12:35.380662Z",
     "start_time": "2021-02-16T16:12:35.367632Z"
    },
    "hidden": true
   },
   "outputs": [
    {
     "name": "stdout",
     "output_type": "stream",
     "text": [
      "Number of rows:21613\n",
      "Number of cols:21\n"
     ]
    }
   ],
   "source": [
    "print('Number of rows:{}'.format(df.shape[0]))\n",
    "print('Number of cols:{}'.format(df.shape[1]))"
   ]
  },
  {
   "cell_type": "markdown",
   "id": "pleasant-popularity",
   "metadata": {
    "ExecuteTime": {
     "end_time": "2021-02-16T12:51:29.483698Z",
     "start_time": "2021-02-16T12:51:29.475660Z"
    },
    "heading_collapsed": true
   },
   "source": [
    "## Convert data"
   ]
  },
  {
   "cell_type": "code",
   "execution_count": 58,
   "id": "systematic-perspective",
   "metadata": {
    "ExecuteTime": {
     "end_time": "2021-02-16T16:12:36.313516Z",
     "start_time": "2021-02-16T16:12:36.291516Z"
    },
    "hidden": true
   },
   "outputs": [
    {
     "data": {
      "text/plain": [
       "id                        int64\n",
       "date             datetime64[ns]\n",
       "price                   float64\n",
       "bedrooms                  int64\n",
       "bathrooms               float64\n",
       "sqft_living               int64\n",
       "sqft_lot                  int64\n",
       "floors                  float64\n",
       "waterfront                int64\n",
       "view                      int64\n",
       "condition                 int64\n",
       "grade                     int64\n",
       "sqft_above                int64\n",
       "sqft_basement             int64\n",
       "yr_built                  int64\n",
       "yr_renovated              int64\n",
       "zipcode                   int64\n",
       "lat                     float64\n",
       "long                    float64\n",
       "sqft_living15             int64\n",
       "sqft_lot15                int64\n",
       "dtype: object"
      ]
     },
     "execution_count": 58,
     "metadata": {},
     "output_type": "execute_result"
    }
   ],
   "source": [
    "df['date']=pd.to_datetime(df['date'])\n",
    "df.dtypes"
   ]
  },
  {
   "cell_type": "markdown",
   "id": "featured-period",
   "metadata": {
    "ExecuteTime": {
     "end_time": "2021-02-16T12:52:07.811566Z",
     "start_time": "2021-02-16T12:52:07.797566Z"
    },
    "heading_collapsed": true
   },
   "source": [
    "## Statistics descriptions"
   ]
  },
  {
   "cell_type": "code",
   "execution_count": 66,
   "id": "colored-sherman",
   "metadata": {
    "ExecuteTime": {
     "end_time": "2021-02-16T16:16:26.731048Z",
     "start_time": "2021-02-16T16:16:26.719048Z"
    },
    "hidden": true
   },
   "outputs": [],
   "source": [
    "num_attributes=df.select_dtypes(include=('int64','float64'))"
   ]
  },
  {
   "cell_type": "code",
   "execution_count": 67,
   "id": "flying-supervisor",
   "metadata": {
    "ExecuteTime": {
     "end_time": "2021-02-16T16:16:27.277399Z",
     "start_time": "2021-02-16T16:16:27.257363Z"
    },
    "hidden": true
   },
   "outputs": [
    {
     "name": "stdout",
     "output_type": "stream",
     "text": [
      "Number of rows:20\n"
     ]
    },
    {
     "data": {
      "text/plain": [
       "id                 int64\n",
       "price            float64\n",
       "bedrooms           int64\n",
       "bathrooms        float64\n",
       "sqft_living        int64\n",
       "sqft_lot           int64\n",
       "floors           float64\n",
       "waterfront         int64\n",
       "view               int64\n",
       "condition          int64\n",
       "grade              int64\n",
       "sqft_above         int64\n",
       "sqft_basement      int64\n",
       "yr_built           int64\n",
       "yr_renovated       int64\n",
       "zipcode            int64\n",
       "lat              float64\n",
       "long             float64\n",
       "sqft_living15      int64\n",
       "sqft_lot15         int64\n",
       "dtype: object"
      ]
     },
     "execution_count": 67,
     "metadata": {},
     "output_type": "execute_result"
    }
   ],
   "source": [
    "print('Number of rows:{}'.format(num_attributes.shape[1]))\n",
    "num_attributes.dtypes"
   ]
  },
  {
   "cell_type": "code",
   "execution_count": 68,
   "id": "spoken-sally",
   "metadata": {
    "ExecuteTime": {
     "end_time": "2021-02-16T16:16:27.827839Z",
     "start_time": "2021-02-16T16:16:27.789869Z"
    },
    "hidden": true
   },
   "outputs": [],
   "source": [
    "pd.set_option('display.float_format', lambda x: f'%.{len(str(x%1))-2}f' % x)\n",
    "\n",
    "media=pd.DataFrame(num_attributes.apply(np.mean, axis=0))\n",
    "mediana=pd.DataFrame(num_attributes.apply(np.median,axis=0))\n",
    "\n",
    "maximo=pd.DataFrame(num_attributes.apply(np.max,axis=0))\n",
    "minimo=pd.DataFrame(num_attributes.apply(np.min,axis=0))\n",
    "std=pd.DataFrame(num_attributes.apply(np.std,axis=0))\n",
    "\n",
    "df1=pd.concat([maximo,minimo,media,mediana,std], axis=1).reset_index()\n",
    "df1.columns=['attributes','maximo','minimo','media','mediana','std']"
   ]
  },
  {
   "cell_type": "code",
   "execution_count": 69,
   "id": "shared-pepper",
   "metadata": {
    "ExecuteTime": {
     "end_time": "2021-02-16T16:16:28.330998Z",
     "start_time": "2021-02-16T16:16:28.316995Z"
    },
    "hidden": true
   },
   "outputs": [
    {
     "data": {
      "text/html": [
       "<div>\n",
       "<style scoped>\n",
       "    .dataframe tbody tr th:only-of-type {\n",
       "        vertical-align: middle;\n",
       "    }\n",
       "\n",
       "    .dataframe tbody tr th {\n",
       "        vertical-align: top;\n",
       "    }\n",
       "\n",
       "    .dataframe thead th {\n",
       "        text-align: right;\n",
       "    }\n",
       "</style>\n",
       "<table border=\"1\" class=\"dataframe\">\n",
       "  <thead>\n",
       "    <tr style=\"text-align: right;\">\n",
       "      <th></th>\n",
       "      <th>attributes</th>\n",
       "      <th>maximo</th>\n",
       "      <th>minimo</th>\n",
       "      <th>media</th>\n",
       "      <th>mediana</th>\n",
       "      <th>std</th>\n",
       "    </tr>\n",
       "  </thead>\n",
       "  <tbody>\n",
       "    <tr>\n",
       "      <th>0</th>\n",
       "      <td>id</td>\n",
       "      <td>9900000190.0</td>\n",
       "      <td>1000102.0</td>\n",
       "      <td>4580301520.8649883270263672</td>\n",
       "      <td>3904930410.0</td>\n",
       "      <td>2876499023.4277825355529785</td>\n",
       "    </tr>\n",
       "    <tr>\n",
       "      <th>1</th>\n",
       "      <td>price</td>\n",
       "      <td>7700000.0</td>\n",
       "      <td>75000.0</td>\n",
       "      <td>540088.14176652941387147</td>\n",
       "      <td>450000.0</td>\n",
       "      <td>367118.7031813723151572</td>\n",
       "    </tr>\n",
       "    <tr>\n",
       "      <th>2</th>\n",
       "      <td>bedrooms</td>\n",
       "      <td>33.0</td>\n",
       "      <td>0.0</td>\n",
       "      <td>3.3708416230972098</td>\n",
       "      <td>3.0</td>\n",
       "      <td>0.9300403146391111</td>\n",
       "    </tr>\n",
       "    <tr>\n",
       "      <th>3</th>\n",
       "      <td>bathrooms</td>\n",
       "      <td>8.0</td>\n",
       "      <td>0.0</td>\n",
       "      <td>2.1147573219821405</td>\n",
       "      <td>2.25</td>\n",
       "      <td>0.7701453398840542</td>\n",
       "    </tr>\n",
       "    <tr>\n",
       "      <th>4</th>\n",
       "      <td>sqft_living</td>\n",
       "      <td>13540.0</td>\n",
       "      <td>290.0</td>\n",
       "      <td>2079.8997362698373763</td>\n",
       "      <td>1910.0</td>\n",
       "      <td>918.41964938288231224</td>\n",
       "    </tr>\n",
       "    <tr>\n",
       "      <th>5</th>\n",
       "      <td>sqft_lot</td>\n",
       "      <td>1651359.0</td>\n",
       "      <td>520.0</td>\n",
       "      <td>15106.9675658168689552</td>\n",
       "      <td>7618.0</td>\n",
       "      <td>41419.5532726276796893</td>\n",
       "    </tr>\n",
       "    <tr>\n",
       "      <th>6</th>\n",
       "      <td>floors</td>\n",
       "      <td>3.5</td>\n",
       "      <td>1.0</td>\n",
       "      <td>1.49430898070605656</td>\n",
       "      <td>1.5</td>\n",
       "      <td>0.5399764027733692</td>\n",
       "    </tr>\n",
       "    <tr>\n",
       "      <th>7</th>\n",
       "      <td>waterfront</td>\n",
       "      <td>1.0</td>\n",
       "      <td>0.0</td>\n",
       "      <td>0.007541757275713691</td>\n",
       "      <td>0.0</td>\n",
       "      <td>0.08651519619643655</td>\n",
       "    </tr>\n",
       "    <tr>\n",
       "      <th>8</th>\n",
       "      <td>view</td>\n",
       "      <td>4.0</td>\n",
       "      <td>0.0</td>\n",
       "      <td>0.23430342849211122</td>\n",
       "      <td>0.0</td>\n",
       "      <td>0.7662998409056494</td>\n",
       "    </tr>\n",
       "    <tr>\n",
       "      <th>9</th>\n",
       "      <td>condition</td>\n",
       "      <td>5.0</td>\n",
       "      <td>1.0</td>\n",
       "      <td>3.40942951001711947</td>\n",
       "      <td>3.0</td>\n",
       "      <td>0.6507279917561631</td>\n",
       "    </tr>\n",
       "    <tr>\n",
       "      <th>10</th>\n",
       "      <td>grade</td>\n",
       "      <td>13.0</td>\n",
       "      <td>1.0</td>\n",
       "      <td>7.656873178179799</td>\n",
       "      <td>7.0</td>\n",
       "      <td>1.17543156333268528</td>\n",
       "    </tr>\n",
       "    <tr>\n",
       "      <th>11</th>\n",
       "      <td>sqft_above</td>\n",
       "      <td>9410.0</td>\n",
       "      <td>290.0</td>\n",
       "      <td>1788.3906907879515984</td>\n",
       "      <td>1560.0</td>\n",
       "      <td>828.07182018750904717</td>\n",
       "    </tr>\n",
       "    <tr>\n",
       "      <th>12</th>\n",
       "      <td>sqft_basement</td>\n",
       "      <td>4820.0</td>\n",
       "      <td>0.0</td>\n",
       "      <td>291.5090454818858916</td>\n",
       "      <td>0.0</td>\n",
       "      <td>442.5648039285182449</td>\n",
       "    </tr>\n",
       "    <tr>\n",
       "      <th>13</th>\n",
       "      <td>yr_built</td>\n",
       "      <td>2015.0</td>\n",
       "      <td>1900.0</td>\n",
       "      <td>1971.005135797899356476</td>\n",
       "      <td>1975.0</td>\n",
       "      <td>29.3727312634383715</td>\n",
       "    </tr>\n",
       "    <tr>\n",
       "      <th>14</th>\n",
       "      <td>yr_renovated</td>\n",
       "      <td>2015.0</td>\n",
       "      <td>0.0</td>\n",
       "      <td>84.40225790033775866</td>\n",
       "      <td>0.0</td>\n",
       "      <td>401.6699473738606798</td>\n",
       "    </tr>\n",
       "    <tr>\n",
       "      <th>15</th>\n",
       "      <td>zipcode</td>\n",
       "      <td>98199.0</td>\n",
       "      <td>98001.0</td>\n",
       "      <td>98077.9398047471477184</td>\n",
       "      <td>98065.0</td>\n",
       "      <td>53.5037884458511286</td>\n",
       "    </tr>\n",
       "    <tr>\n",
       "      <th>16</th>\n",
       "      <td>lat</td>\n",
       "      <td>47.7775999999999996</td>\n",
       "      <td>47.1559000000000026</td>\n",
       "      <td>47.5600525193170824</td>\n",
       "      <td>47.5718000000000032</td>\n",
       "      <td>0.13856050464082623</td>\n",
       "    </tr>\n",
       "    <tr>\n",
       "      <th>17</th>\n",
       "      <td>long</td>\n",
       "      <td>-121.3149999999999977</td>\n",
       "      <td>-122.51900000000000546</td>\n",
       "      <td>-122.2138964049414653</td>\n",
       "      <td>-122.230000000000004</td>\n",
       "      <td>0.14082508438918115</td>\n",
       "    </tr>\n",
       "    <tr>\n",
       "      <th>18</th>\n",
       "      <td>sqft_living15</td>\n",
       "      <td>6210.0</td>\n",
       "      <td>399.0</td>\n",
       "      <td>1986.552491556007908</td>\n",
       "      <td>1840.0</td>\n",
       "      <td>685.3754480728756562</td>\n",
       "    </tr>\n",
       "    <tr>\n",
       "      <th>19</th>\n",
       "      <td>sqft_lot15</td>\n",
       "      <td>871200.0</td>\n",
       "      <td>651.0</td>\n",
       "      <td>12768.45565169111250725</td>\n",
       "      <td>7620.0</td>\n",
       "      <td>27303.5479630030386033</td>\n",
       "    </tr>\n",
       "  </tbody>\n",
       "</table>\n",
       "</div>"
      ],
      "text/plain": [
       "       attributes                maximo                 minimo  \\\n",
       "0              id          9900000190.0              1000102.0   \n",
       "1           price             7700000.0                75000.0   \n",
       "2        bedrooms                  33.0                    0.0   \n",
       "3       bathrooms                   8.0                    0.0   \n",
       "4     sqft_living               13540.0                  290.0   \n",
       "5        sqft_lot             1651359.0                  520.0   \n",
       "6          floors                   3.5                    1.0   \n",
       "7      waterfront                   1.0                    0.0   \n",
       "8            view                   4.0                    0.0   \n",
       "9       condition                   5.0                    1.0   \n",
       "10          grade                  13.0                    1.0   \n",
       "11     sqft_above                9410.0                  290.0   \n",
       "12  sqft_basement                4820.0                    0.0   \n",
       "13       yr_built                2015.0                 1900.0   \n",
       "14   yr_renovated                2015.0                    0.0   \n",
       "15        zipcode               98199.0                98001.0   \n",
       "16            lat   47.7775999999999996    47.1559000000000026   \n",
       "17           long -121.3149999999999977 -122.51900000000000546   \n",
       "18  sqft_living15                6210.0                  399.0   \n",
       "19     sqft_lot15              871200.0                  651.0   \n",
       "\n",
       "                         media              mediana  \\\n",
       "0  4580301520.8649883270263672         3904930410.0   \n",
       "1     540088.14176652941387147             450000.0   \n",
       "2           3.3708416230972098                  3.0   \n",
       "3           2.1147573219821405                 2.25   \n",
       "4        2079.8997362698373763               1910.0   \n",
       "5       15106.9675658168689552               7618.0   \n",
       "6          1.49430898070605656                  1.5   \n",
       "7         0.007541757275713691                  0.0   \n",
       "8          0.23430342849211122                  0.0   \n",
       "9          3.40942951001711947                  3.0   \n",
       "10           7.656873178179799                  7.0   \n",
       "11       1788.3906907879515984               1560.0   \n",
       "12        291.5090454818858916                  0.0   \n",
       "13     1971.005135797899356476               1975.0   \n",
       "14        84.40225790033775866                  0.0   \n",
       "15      98077.9398047471477184              98065.0   \n",
       "16         47.5600525193170824  47.5718000000000032   \n",
       "17       -122.2138964049414653 -122.230000000000004   \n",
       "18        1986.552491556007908               1840.0   \n",
       "19     12768.45565169111250725               7620.0   \n",
       "\n",
       "                           std  \n",
       "0  2876499023.4277825355529785  \n",
       "1      367118.7031813723151572  \n",
       "2           0.9300403146391111  \n",
       "3           0.7701453398840542  \n",
       "4        918.41964938288231224  \n",
       "5       41419.5532726276796893  \n",
       "6           0.5399764027733692  \n",
       "7          0.08651519619643655  \n",
       "8           0.7662998409056494  \n",
       "9           0.6507279917561631  \n",
       "10         1.17543156333268528  \n",
       "11       828.07182018750904717  \n",
       "12        442.5648039285182449  \n",
       "13         29.3727312634383715  \n",
       "14        401.6699473738606798  \n",
       "15         53.5037884458511286  \n",
       "16         0.13856050464082623  \n",
       "17         0.14082508438918115  \n",
       "18        685.3754480728756562  \n",
       "19      27303.5479630030386033  "
      ]
     },
     "execution_count": 69,
     "metadata": {},
     "output_type": "execute_result"
    }
   ],
   "source": [
    "df1"
   ]
  },
  {
   "cell_type": "markdown",
   "id": "classical-remains",
   "metadata": {
    "ExecuteTime": {
     "end_time": "2021-02-16T15:21:35.692705Z",
     "start_time": "2021-02-16T15:21:35.544709Z"
    },
    "heading_collapsed": true,
    "hidden": true
   },
   "source": [
    "### Crie uma nova coluna chamada 'dormitory_type'\n",
    "- se o valor dacoluna 'bedrooms' for igual a 1 = studio\n",
    "- se o valor dacoluna 'bedrooms' for igual a 2 = apartment\n",
    "- se o valor dacoluna 'bedrooms' for igual a 3 = house"
   ]
  },
  {
   "cell_type": "code",
   "execution_count": 81,
   "id": "sophisticated-holly",
   "metadata": {
    "ExecuteTime": {
     "end_time": "2021-02-16T16:21:54.376532Z",
     "start_time": "2021-02-16T16:21:43.421983Z"
    },
    "hidden": true
   },
   "outputs": [],
   "source": [
    "df['dormitory_type']='NA'\n",
    "\n",
    "for i in range(len(df)):\n",
    "    if df.loc[i,'bedrooms']==1:\n",
    "        df.loc[i,'dormitory_type']='studio'\n",
    "    elif  df.loc[i,'bedrooms']==2:\n",
    "        df.loc[i,'dormitory_type']='apartment'\n",
    "    else:\n",
    "        df.loc[i,'dormitory_type']='house'\n",
    "    "
   ]
  },
  {
   "cell_type": "markdown",
   "id": "collectible-airfare",
   "metadata": {
    "heading_collapsed": true,
    "hidden": true
   },
   "source": [
    "### Qual a quantidade de imóveis por nível?\n",
    "- Nivel 0: Preço entre R$ 0.00 e R$ 321.950\n",
    "- Nivel 1: Preço entre R$ 321.950 e R$ 450.000\n",
    "- Nivel 2: Preço entre R$ 450.000 e R$ 645.000\n",
    "- Nivel 3: Preço entre R$ Acima de R$ 645.000"
   ]
  },
  {
   "cell_type": "code",
   "execution_count": 82,
   "id": "considered-professional",
   "metadata": {
    "ExecuteTime": {
     "end_time": "2021-02-16T16:22:06.819018Z",
     "start_time": "2021-02-16T16:21:54.378531Z"
    },
    "hidden": true
   },
   "outputs": [],
   "source": [
    "df['level']='NA'\n",
    "\n",
    "for i in range(len(df)):\n",
    "    if (df.loc[i,'price']>=0)&(df.loc[i,'price']>321.950):\n",
    "        df.loc[i,'level']=1\n",
    "    elif (df.loc[i,'price']>=321.950)&(df.loc[i,'price']>450.000):\n",
    "        df.loc[i,'level']=2\n",
    "    elif (df.loc[i,'price']>=450.000)&(df.loc[i,'price']>645.000):\n",
    "        df.loc[i,'level']=3\n",
    "    else:\n",
    "        df.loc[i,'level']=4\n",
    "    "
   ]
  },
  {
   "cell_type": "code",
   "execution_count": 83,
   "id": "handy-awareness",
   "metadata": {
    "ExecuteTime": {
     "end_time": "2021-02-16T16:22:06.849019Z",
     "start_time": "2021-02-16T16:22:06.821019Z"
    },
    "hidden": true
   },
   "outputs": [
    {
     "data": {
      "text/html": [
       "<div>\n",
       "<style scoped>\n",
       "    .dataframe tbody tr th:only-of-type {\n",
       "        vertical-align: middle;\n",
       "    }\n",
       "\n",
       "    .dataframe tbody tr th {\n",
       "        vertical-align: top;\n",
       "    }\n",
       "\n",
       "    .dataframe thead th {\n",
       "        text-align: right;\n",
       "    }\n",
       "</style>\n",
       "<table border=\"1\" class=\"dataframe\">\n",
       "  <thead>\n",
       "    <tr style=\"text-align: right;\">\n",
       "      <th></th>\n",
       "      <th>id</th>\n",
       "      <th>date</th>\n",
       "      <th>price</th>\n",
       "      <th>bedrooms</th>\n",
       "      <th>bathrooms</th>\n",
       "      <th>sqft_living</th>\n",
       "      <th>sqft_lot</th>\n",
       "      <th>floors</th>\n",
       "      <th>waterfront</th>\n",
       "      <th>view</th>\n",
       "      <th>...</th>\n",
       "      <th>sqft_basement</th>\n",
       "      <th>yr_built</th>\n",
       "      <th>yr_renovated</th>\n",
       "      <th>zipcode</th>\n",
       "      <th>lat</th>\n",
       "      <th>long</th>\n",
       "      <th>sqft_living15</th>\n",
       "      <th>sqft_lot15</th>\n",
       "      <th>dormitory_type</th>\n",
       "      <th>level</th>\n",
       "    </tr>\n",
       "  </thead>\n",
       "  <tbody>\n",
       "    <tr>\n",
       "      <th>0</th>\n",
       "      <td>7129300520</td>\n",
       "      <td>2014-10-13</td>\n",
       "      <td>221900.0</td>\n",
       "      <td>3</td>\n",
       "      <td>1.0</td>\n",
       "      <td>1180</td>\n",
       "      <td>5650</td>\n",
       "      <td>1.0</td>\n",
       "      <td>0</td>\n",
       "      <td>0</td>\n",
       "      <td>...</td>\n",
       "      <td>0</td>\n",
       "      <td>1955</td>\n",
       "      <td>0</td>\n",
       "      <td>98178</td>\n",
       "      <td>47.5112000000000023</td>\n",
       "      <td>-122.257000000000005</td>\n",
       "      <td>1340</td>\n",
       "      <td>5650</td>\n",
       "      <td>house</td>\n",
       "      <td>1</td>\n",
       "    </tr>\n",
       "    <tr>\n",
       "      <th>1</th>\n",
       "      <td>6414100192</td>\n",
       "      <td>2014-12-09</td>\n",
       "      <td>538000.0</td>\n",
       "      <td>3</td>\n",
       "      <td>2.25</td>\n",
       "      <td>2570</td>\n",
       "      <td>7242</td>\n",
       "      <td>2.0</td>\n",
       "      <td>0</td>\n",
       "      <td>0</td>\n",
       "      <td>...</td>\n",
       "      <td>400</td>\n",
       "      <td>1951</td>\n",
       "      <td>1991</td>\n",
       "      <td>98125</td>\n",
       "      <td>47.7209999999999965</td>\n",
       "      <td>-122.3190000000000026</td>\n",
       "      <td>1690</td>\n",
       "      <td>7639</td>\n",
       "      <td>house</td>\n",
       "      <td>1</td>\n",
       "    </tr>\n",
       "    <tr>\n",
       "      <th>2</th>\n",
       "      <td>5631500400</td>\n",
       "      <td>2015-02-25</td>\n",
       "      <td>180000.0</td>\n",
       "      <td>2</td>\n",
       "      <td>1.0</td>\n",
       "      <td>770</td>\n",
       "      <td>10000</td>\n",
       "      <td>1.0</td>\n",
       "      <td>0</td>\n",
       "      <td>0</td>\n",
       "      <td>...</td>\n",
       "      <td>0</td>\n",
       "      <td>1933</td>\n",
       "      <td>0</td>\n",
       "      <td>98028</td>\n",
       "      <td>47.7379000000000033</td>\n",
       "      <td>-122.2330000000000041</td>\n",
       "      <td>2720</td>\n",
       "      <td>8062</td>\n",
       "      <td>apartment</td>\n",
       "      <td>1</td>\n",
       "    </tr>\n",
       "    <tr>\n",
       "      <th>3</th>\n",
       "      <td>2487200875</td>\n",
       "      <td>2014-12-09</td>\n",
       "      <td>604000.0</td>\n",
       "      <td>4</td>\n",
       "      <td>3.0</td>\n",
       "      <td>1960</td>\n",
       "      <td>5000</td>\n",
       "      <td>1.0</td>\n",
       "      <td>0</td>\n",
       "      <td>0</td>\n",
       "      <td>...</td>\n",
       "      <td>910</td>\n",
       "      <td>1965</td>\n",
       "      <td>0</td>\n",
       "      <td>98136</td>\n",
       "      <td>47.5208000000000013</td>\n",
       "      <td>-122.3930000000000007</td>\n",
       "      <td>1360</td>\n",
       "      <td>5000</td>\n",
       "      <td>house</td>\n",
       "      <td>1</td>\n",
       "    </tr>\n",
       "    <tr>\n",
       "      <th>4</th>\n",
       "      <td>1954400510</td>\n",
       "      <td>2015-02-18</td>\n",
       "      <td>510000.0</td>\n",
       "      <td>3</td>\n",
       "      <td>2.0</td>\n",
       "      <td>1680</td>\n",
       "      <td>8080</td>\n",
       "      <td>1.0</td>\n",
       "      <td>0</td>\n",
       "      <td>0</td>\n",
       "      <td>...</td>\n",
       "      <td>0</td>\n",
       "      <td>1987</td>\n",
       "      <td>0</td>\n",
       "      <td>98074</td>\n",
       "      <td>47.6167999999999978</td>\n",
       "      <td>-122.0450000000000017</td>\n",
       "      <td>1800</td>\n",
       "      <td>7503</td>\n",
       "      <td>house</td>\n",
       "      <td>1</td>\n",
       "    </tr>\n",
       "  </tbody>\n",
       "</table>\n",
       "<p>5 rows × 23 columns</p>\n",
       "</div>"
      ],
      "text/plain": [
       "           id       date    price  bedrooms  bathrooms  sqft_living  sqft_lot  \\\n",
       "0  7129300520 2014-10-13 221900.0         3        1.0         1180      5650   \n",
       "1  6414100192 2014-12-09 538000.0         3       2.25         2570      7242   \n",
       "2  5631500400 2015-02-25 180000.0         2        1.0          770     10000   \n",
       "3  2487200875 2014-12-09 604000.0         4        3.0         1960      5000   \n",
       "4  1954400510 2015-02-18 510000.0         3        2.0         1680      8080   \n",
       "\n",
       "   floors  waterfront  view  ...  sqft_basement  yr_built  yr_renovated  \\\n",
       "0     1.0           0     0  ...              0      1955             0   \n",
       "1     2.0           0     0  ...            400      1951          1991   \n",
       "2     1.0           0     0  ...              0      1933             0   \n",
       "3     1.0           0     0  ...            910      1965             0   \n",
       "4     1.0           0     0  ...              0      1987             0   \n",
       "\n",
       "   zipcode                 lat                  long  sqft_living15  \\\n",
       "0    98178 47.5112000000000023  -122.257000000000005           1340   \n",
       "1    98125 47.7209999999999965 -122.3190000000000026           1690   \n",
       "2    98028 47.7379000000000033 -122.2330000000000041           2720   \n",
       "3    98136 47.5208000000000013 -122.3930000000000007           1360   \n",
       "4    98074 47.6167999999999978 -122.0450000000000017           1800   \n",
       "\n",
       "   sqft_lot15  dormitory_type  level  \n",
       "0        5650           house      1  \n",
       "1        7639           house      1  \n",
       "2        8062       apartment      1  \n",
       "3        5000           house      1  \n",
       "4        7503           house      1  \n",
       "\n",
       "[5 rows x 23 columns]"
      ]
     },
     "execution_count": 83,
     "metadata": {},
     "output_type": "execute_result"
    }
   ],
   "source": [
    "df.head()"
   ]
  },
  {
   "cell_type": "code",
   "execution_count": null,
   "id": "adverse-mistress",
   "metadata": {
    "hidden": true
   },
   "outputs": [],
   "source": []
  },
  {
   "cell_type": "code",
   "execution_count": null,
   "id": "hollywood-starter",
   "metadata": {
    "hidden": true
   },
   "outputs": [],
   "source": []
  }
 ],
 "metadata": {
  "kernelspec": {
   "display_name": "Python 3",
   "language": "python",
   "name": "python3"
  },
  "language_info": {
   "codemirror_mode": {
    "name": "ipython",
    "version": 3
   },
   "file_extension": ".py",
   "mimetype": "text/x-python",
   "name": "python",
   "nbconvert_exporter": "python",
   "pygments_lexer": "ipython3",
   "version": "3.8.5"
  },
  "toc": {
   "base_numbering": 1,
   "nav_menu": {},
   "number_sections": true,
   "sideBar": true,
   "skip_h1_title": false,
   "title_cell": "Table of Contents",
   "title_sidebar": "Contents",
   "toc_cell": false,
   "toc_position": {},
   "toc_section_display": true,
   "toc_window_display": true
  }
 },
 "nbformat": 4,
 "nbformat_minor": 5
}
