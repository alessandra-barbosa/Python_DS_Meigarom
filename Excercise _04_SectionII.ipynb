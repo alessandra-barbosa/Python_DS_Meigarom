{
 "cells": [
  {
   "cell_type": "markdown",
   "id": "developmental-power",
   "metadata": {
    "hide_input": true
   },
   "source": [
    "# Exercicio Aula 04: Estruturas de controle"
   ]
  },
  {
   "cell_type": "markdown",
   "id": "understood-walnut",
   "metadata": {
    "heading_collapsed": true
   },
   "source": [
    "## Qual a quantidade de imóveis por nível?\n",
    "- Nivel 0: Preço entre R$ 0.00 e R$ 321.950\n",
    "- Nivel 1: Preço entre R$ 321.950 e R$ 450.000\n",
    "- Nivel 2: Preço entre R$ 450.000 e R$ 645.000\n",
    "- Nivel 3: Preço entre R$ Acima de R$ 645.000"
   ]
  },
  {
   "cell_type": "code",
   "execution_count": 14,
   "id": "white-basics",
   "metadata": {
    "ExecuteTime": {
     "end_time": "2021-02-12T09:58:58.115284Z",
     "start_time": "2021-02-12T09:58:57.979079Z"
    },
    "hidden": true
   },
   "outputs": [],
   "source": [
    "import pandas as pd\n",
    "df=pd.read_csv('Datasets/kc_house_data_API1.csv')"
   ]
  },
  {
   "cell_type": "code",
   "execution_count": 2,
   "id": "checked-concentrate",
   "metadata": {
    "ExecuteTime": {
     "end_time": "2021-02-10T19:58:18.829939Z",
     "start_time": "2021-02-10T19:58:18.784929Z"
    },
    "hidden": true
   },
   "outputs": [
    {
     "name": "stdout",
     "output_type": "stream",
     "text": [
      "5403\n",
      "5289\n",
      "5508\n",
      "5413\n"
     ]
    }
   ],
   "source": [
    "#formula 1\n",
    "df['level']=df['price'].apply(lambda x:  0 if x<321950 else\n",
    "                                         1 if (x>=321950)&(x<450000)else\n",
    "                                         2 if (x>=450000)&(x<645000)else 3)\n",
    "print(df.loc[df['level']==0,'id'].count())\n",
    "print(df.loc[df['level']==1,'id'].count())\n",
    "print(df.loc[df['level']==2,'id'].count())\n",
    "print(df.loc[df['level']==3,'id'].count())\n"
   ]
  },
  {
   "cell_type": "code",
   "execution_count": 3,
   "id": "directed-explorer",
   "metadata": {
    "ExecuteTime": {
     "end_time": "2021-02-10T19:58:18.845908Z",
     "start_time": "2021-02-10T19:58:18.831911Z"
    },
    "hidden": true,
    "scrolled": true
   },
   "outputs": [
    {
     "name": "stdout",
     "output_type": "stream",
     "text": [
      "5403\n",
      "5289\n",
      "5508\n",
      "5413\n"
     ]
    }
   ],
   "source": [
    "#formula 2\n",
    "print(df.loc[(df['price']>=0)&(df['price']<321950),'level'].count())\n",
    "print(df.loc[(df['price']>=321950)&(df['price']<450000),'level'].count())\n",
    "print(df.loc[(df['price']>=450000)&(df['price']<645000),'level'].count())\n",
    "print(df.loc[df['price']>=645000,'level'].count())"
   ]
  },
  {
   "cell_type": "markdown",
   "id": "mathematical-flavor",
   "metadata": {
    "heading_collapsed": true
   },
   "source": [
    "## Qual a média do tamanho da sala de estar dos imíveis por \"size\"?\n",
    "- Size 0: Tamanho entre 0 e 1427 sqft\n",
    "- Size 1: Tamanho entre 1427 e 1910 sqft\n",
    "- Size 2: Tamanho entre 1910 e 2550 sqft\n",
    "- Size 3: Tamanho acima de 2550 sqtf\n"
   ]
  },
  {
   "cell_type": "code",
   "execution_count": 4,
   "id": "relative-check",
   "metadata": {
    "ExecuteTime": {
     "end_time": "2021-02-10T19:58:18.877909Z",
     "start_time": "2021-02-10T19:58:18.847907Z"
    },
    "hidden": true
   },
   "outputs": [
    {
     "name": "stdout",
     "output_type": "stream",
     "text": [
      "1123.7764205071257\n",
      "1661.1980884557722\n",
      "2202.7002389266677\n",
      "3318.9884041965765\n"
     ]
    }
   ],
   "source": [
    "df['size']=df['sqft_living'].apply(lambda x:  0 if x<1427 else\n",
    "                                         1 if (x>=1427)&(x<1910)else\n",
    "                                         2 if (x>=1910)&(x<2550)else 3)\n",
    "print(df.loc[df['size']==0,'sqft_living'].mean())\n",
    "print(df.loc[df['size']==1,'sqft_living'].mean())\n",
    "print(df.loc[df['size']==2,'sqft_living'].mean())\n",
    "print(df.loc[df['size']==3,'sqft_living'].mean())\n",
    "\n"
   ]
  },
  {
   "cell_type": "markdown",
   "id": "parallel-stopping",
   "metadata": {
    "heading_collapsed": true
   },
   "source": [
    "## Adicione as seguintes informações ao conjunto de dados original?\n",
    "- Place ID:Identificação da localização\n",
    "- OSM type: Open Street Map Type\n",
    "- Country: Nome do País\n",
    "- Country CODE: Código do País"
   ]
  },
  {
   "cell_type": "code",
   "execution_count": 5,
   "id": "fantastic-valuable",
   "metadata": {
    "ExecuteTime": {
     "end_time": "2021-02-10T19:58:19.382824Z",
     "start_time": "2021-02-10T19:58:18.879905Z"
    },
    "hidden": true
   },
   "outputs": [
    {
     "name": "stdout",
     "output_type": "stream",
     "text": [
      "{'place_id': 147183522, 'licence': 'Data © OpenStreetMap contributors, ODbL 1.0. https://osm.org/copyright', 'osm_type': 'way', 'osm_id': 236673600, 'lat': '47.5112302', 'lon': '-122.25676111324441', 'display_name': '10012, 61st Avenue South, Rainier Beach, Seattle, King County, Washington, 98178, United States', 'address': {'house_number': '10012', 'road': '61st Avenue South', 'neighbourhood': 'Rainier Beach', 'city': 'Seattle', 'county': 'King County', 'state': 'Washington', 'postcode': '98178', 'country': 'United States', 'country_code': 'us'}, 'boundingbox': ['47.511189', '47.5112943', '-122.2568571', '-122.2566651']}\n"
     ]
    }
   ],
   "source": [
    "from geopy.geocoders import Nominatim\n",
    "geolocator=Nominatim(user_agent='geoapiExercises')\n",
    "response=geolocator.reverse('47.5112,-122.257')\n",
    "print(response.raw)\n"
   ]
  },
  {
   "cell_type": "code",
   "execution_count": 6,
   "id": "progressive-setup",
   "metadata": {
    "ExecuteTime": {
     "end_time": "2021-02-10T19:58:19.398816Z",
     "start_time": "2021-02-10T19:58:19.383815Z"
    },
    "hidden": true
   },
   "outputs": [
    {
     "name": "stdout",
     "output_type": "stream",
     "text": [
      "147183522\n",
      "way\n"
     ]
    }
   ],
   "source": [
    "print(response.raw['place_id'])\n",
    "print(response.raw['osm_type'])"
   ]
  },
  {
   "cell_type": "code",
   "execution_count": 7,
   "id": "stupid-wellington",
   "metadata": {
    "ExecuteTime": {
     "end_time": "2021-02-10T19:58:19.414812Z",
     "start_time": "2021-02-10T19:58:19.399812Z"
    },
    "hidden": true
   },
   "outputs": [
    {
     "name": "stdout",
     "output_type": "stream",
     "text": [
      "United States\n",
      "us\n"
     ]
    }
   ],
   "source": [
    "print(response.raw['address']['country'])\n",
    "print(response.raw['address']['country_code'])"
   ]
  },
  {
   "cell_type": "code",
   "execution_count": 8,
   "id": "compatible-momentum",
   "metadata": {
    "ExecuteTime": {
     "end_time": "2021-02-10T19:58:19.681640Z",
     "start_time": "2021-02-10T19:58:19.418814Z"
    },
    "hidden": true
   },
   "outputs": [
    {
     "data": {
      "text/html": [
       "<div>\n",
       "<style scoped>\n",
       "    .dataframe tbody tr th:only-of-type {\n",
       "        vertical-align: middle;\n",
       "    }\n",
       "\n",
       "    .dataframe tbody tr th {\n",
       "        vertical-align: top;\n",
       "    }\n",
       "\n",
       "    .dataframe thead th {\n",
       "        text-align: right;\n",
       "    }\n",
       "</style>\n",
       "<table border=\"1\" class=\"dataframe\">\n",
       "  <thead>\n",
       "    <tr style=\"text-align: right;\">\n",
       "      <th></th>\n",
       "      <th>Unnamed: 0</th>\n",
       "      <th>id</th>\n",
       "      <th>date</th>\n",
       "      <th>price</th>\n",
       "      <th>bedrooms</th>\n",
       "      <th>bathrooms</th>\n",
       "      <th>sqft_living</th>\n",
       "      <th>sqft_lot</th>\n",
       "      <th>floors</th>\n",
       "      <th>waterfront</th>\n",
       "      <th>...</th>\n",
       "      <th>city</th>\n",
       "      <th>county</th>\n",
       "      <th>state</th>\n",
       "      <th>neighbourhood</th>\n",
       "      <th>level</th>\n",
       "      <th>size</th>\n",
       "      <th>place_id</th>\n",
       "      <th>osm_type</th>\n",
       "      <th>country</th>\n",
       "      <th>country_code</th>\n",
       "    </tr>\n",
       "  </thead>\n",
       "  <tbody>\n",
       "    <tr>\n",
       "      <th>0</th>\n",
       "      <td>0</td>\n",
       "      <td>7129300520</td>\n",
       "      <td>20141013T000000</td>\n",
       "      <td>221900.0</td>\n",
       "      <td>3</td>\n",
       "      <td>1.00</td>\n",
       "      <td>1180</td>\n",
       "      <td>5650</td>\n",
       "      <td>1.0</td>\n",
       "      <td>0</td>\n",
       "      <td>...</td>\n",
       "      <td>Seattle</td>\n",
       "      <td>King County</td>\n",
       "      <td>Washington</td>\n",
       "      <td>Rainier Beach</td>\n",
       "      <td>0</td>\n",
       "      <td>0</td>\n",
       "      <td>NA</td>\n",
       "      <td>NA</td>\n",
       "      <td>NA</td>\n",
       "      <td>NA</td>\n",
       "    </tr>\n",
       "    <tr>\n",
       "      <th>1</th>\n",
       "      <td>1</td>\n",
       "      <td>6414100192</td>\n",
       "      <td>20141209T000000</td>\n",
       "      <td>538000.0</td>\n",
       "      <td>3</td>\n",
       "      <td>2.25</td>\n",
       "      <td>2570</td>\n",
       "      <td>7242</td>\n",
       "      <td>2.0</td>\n",
       "      <td>0</td>\n",
       "      <td>...</td>\n",
       "      <td>Seattle</td>\n",
       "      <td>King County</td>\n",
       "      <td>Washington</td>\n",
       "      <td>NaN</td>\n",
       "      <td>2</td>\n",
       "      <td>3</td>\n",
       "      <td>147183522</td>\n",
       "      <td>way</td>\n",
       "      <td>United States</td>\n",
       "      <td>us</td>\n",
       "    </tr>\n",
       "    <tr>\n",
       "      <th>2</th>\n",
       "      <td>2</td>\n",
       "      <td>5631500400</td>\n",
       "      <td>20150225T000000</td>\n",
       "      <td>180000.0</td>\n",
       "      <td>2</td>\n",
       "      <td>1.00</td>\n",
       "      <td>770</td>\n",
       "      <td>10000</td>\n",
       "      <td>1.0</td>\n",
       "      <td>0</td>\n",
       "      <td>...</td>\n",
       "      <td>NaN</td>\n",
       "      <td>King County</td>\n",
       "      <td>Washington</td>\n",
       "      <td>NaN</td>\n",
       "      <td>0</td>\n",
       "      <td>0</td>\n",
       "      <td>NA</td>\n",
       "      <td>NA</td>\n",
       "      <td>NA</td>\n",
       "      <td>NA</td>\n",
       "    </tr>\n",
       "    <tr>\n",
       "      <th>3</th>\n",
       "      <td>3</td>\n",
       "      <td>2487200875</td>\n",
       "      <td>20141209T000000</td>\n",
       "      <td>604000.0</td>\n",
       "      <td>4</td>\n",
       "      <td>3.00</td>\n",
       "      <td>1960</td>\n",
       "      <td>5000</td>\n",
       "      <td>1.0</td>\n",
       "      <td>0</td>\n",
       "      <td>...</td>\n",
       "      <td>Seattle</td>\n",
       "      <td>King County</td>\n",
       "      <td>Washington</td>\n",
       "      <td>NaN</td>\n",
       "      <td>2</td>\n",
       "      <td>2</td>\n",
       "      <td>NA</td>\n",
       "      <td>NA</td>\n",
       "      <td>NA</td>\n",
       "      <td>NA</td>\n",
       "    </tr>\n",
       "    <tr>\n",
       "      <th>4</th>\n",
       "      <td>4</td>\n",
       "      <td>1954400510</td>\n",
       "      <td>20150218T000000</td>\n",
       "      <td>510000.0</td>\n",
       "      <td>3</td>\n",
       "      <td>2.00</td>\n",
       "      <td>1680</td>\n",
       "      <td>8080</td>\n",
       "      <td>1.0</td>\n",
       "      <td>0</td>\n",
       "      <td>...</td>\n",
       "      <td>NaN</td>\n",
       "      <td>King County</td>\n",
       "      <td>Washington</td>\n",
       "      <td>NaN</td>\n",
       "      <td>2</td>\n",
       "      <td>1</td>\n",
       "      <td>NA</td>\n",
       "      <td>NA</td>\n",
       "      <td>NA</td>\n",
       "      <td>NA</td>\n",
       "    </tr>\n",
       "  </tbody>\n",
       "</table>\n",
       "<p>5 rows × 34 columns</p>\n",
       "</div>"
      ],
      "text/plain": [
       "   Unnamed: 0          id             date     price  bedrooms  bathrooms  \\\n",
       "0           0  7129300520  20141013T000000  221900.0         3       1.00   \n",
       "1           1  6414100192  20141209T000000  538000.0         3       2.25   \n",
       "2           2  5631500400  20150225T000000  180000.0         2       1.00   \n",
       "3           3  2487200875  20141209T000000  604000.0         4       3.00   \n",
       "4           4  1954400510  20150218T000000  510000.0         3       2.00   \n",
       "\n",
       "   sqft_living  sqft_lot  floors  waterfront  ...     city       county  \\\n",
       "0         1180      5650     1.0           0  ...  Seattle  King County   \n",
       "1         2570      7242     2.0           0  ...  Seattle  King County   \n",
       "2          770     10000     1.0           0  ...      NaN  King County   \n",
       "3         1960      5000     1.0           0  ...  Seattle  King County   \n",
       "4         1680      8080     1.0           0  ...      NaN  King County   \n",
       "\n",
       "        state  neighbourhood  level  size   place_id  osm_type        country  \\\n",
       "0  Washington  Rainier Beach      0     0         NA        NA             NA   \n",
       "1  Washington            NaN      2     3  147183522       way  United States   \n",
       "2  Washington            NaN      0     0         NA        NA             NA   \n",
       "3  Washington            NaN      2     2         NA        NA             NA   \n",
       "4  Washington            NaN      2     1         NA        NA             NA   \n",
       "\n",
       "   country_code  \n",
       "0            NA  \n",
       "1            us  \n",
       "2            NA  \n",
       "3            NA  \n",
       "4            NA  \n",
       "\n",
       "[5 rows x 34 columns]"
      ]
     },
     "execution_count": 8,
     "metadata": {},
     "output_type": "execute_result"
    }
   ],
   "source": [
    "#Create empty rows\n",
    "df['place_id']='NA'\n",
    "df['osm_type']='NA'\n",
    "df['country']='NA'\n",
    "df['country_code']='NA'\n",
    "\n",
    "geolocator = Nominatim(user_agent='geoapiExercises')\n",
    "response = geolocator.reverse('47.5112,-122.257')\n",
    "\n",
    "df.loc[1,'place_id']= response.raw['place_id']\n",
    "df.loc[1,'osm_type']= response.raw['osm_type']\n",
    "df.loc[1,'country'] = response.raw['address']['country']\n",
    "df.loc[1,'country_code'] = response.raw['address']['country_code']\n",
    "\n",
    "df.head()"
   ]
  },
  {
   "cell_type": "code",
   "execution_count": 9,
   "id": "superb-aging",
   "metadata": {
    "ExecuteTime": {
     "end_time": "2021-02-10T19:58:52.024907Z",
     "start_time": "2021-02-10T19:58:19.683600Z"
    },
    "hidden": true
   },
   "outputs": [
    {
     "name": "stdout",
     "output_type": "stream",
     "text": [
      "Loop:0/21613\n",
      "Loop:1/21613\n",
      "Loop:2/21613\n",
      "Loop:3/21613\n",
      "Loop:4/21613\n",
      "Loop:5/21613\n",
      "Loop:6/21613\n",
      "Loop:7/21613\n",
      "Loop:8/21613\n",
      "Loop:9/21613\n",
      "Loop:10/21613\n",
      "Loop:11/21613\n",
      "Loop:12/21613\n",
      "Loop:13/21613\n",
      "Loop:14/21613\n",
      "Loop:15/21613\n",
      "Loop:16/21613\n",
      "Loop:17/21613\n",
      "Loop:18/21613\n",
      "Loop:19/21613\n",
      "Loop:20/21613\n",
      "Loop:21/21613\n",
      "Loop:22/21613\n",
      "Loop:23/21613\n",
      "Loop:24/21613\n",
      "Loop:25/21613\n",
      "Loop:26/21613\n",
      "Loop:27/21613\n",
      "Loop:28/21613\n",
      "Loop:29/21613\n",
      "Loop:30/21613\n",
      "Loop:31/21613\n",
      "Loop:32/21613\n",
      "Loop:33/21613\n",
      "Loop:34/21613\n",
      "Loop:35/21613\n",
      "Loop:36/21613\n",
      "Loop:37/21613\n",
      "Loop:38/21613\n",
      "Loop:39/21613\n",
      "Loop:40/21613\n",
      "Loop:41/21613\n",
      "Loop:42/21613\n",
      "Loop:43/21613\n",
      "Loop:44/21613\n",
      "Loop:45/21613\n",
      "Loop:46/21613\n",
      "Loop:47/21613\n",
      "Loop:48/21613\n",
      "Loop:49/21613\n",
      "Loop:50/21613\n",
      "Loop:51/21613\n",
      "Loop:52/21613\n",
      "Loop:53/21613\n",
      "Loop:54/21613\n",
      "Loop:55/21613\n",
      "Loop:56/21613\n",
      "Loop:57/21613\n",
      "Loop:58/21613\n",
      "Loop:59/21613\n",
      "Loop:60/21613\n",
      "Loop:61/21613\n",
      "Loop:62/21613\n",
      "Loop:63/21613\n"
     ]
    },
    {
     "ename": "KeyboardInterrupt",
     "evalue": "",
     "output_type": "error",
     "traceback": [
      "\u001b[1;31m---------------------------------------------------------------------------\u001b[0m",
      "\u001b[1;31mKeyboardInterrupt\u001b[0m                         Traceback (most recent call last)",
      "\u001b[1;32m<ipython-input-9-ab51f4ba2d63>\u001b[0m in \u001b[0;36m<module>\u001b[1;34m\u001b[0m\n\u001b[0;32m     12\u001b[0m \u001b[1;33m\u001b[0m\u001b[0m\n\u001b[0;32m     13\u001b[0m \u001b[1;31m#API Request\u001b[0m\u001b[1;33m\u001b[0m\u001b[1;33m\u001b[0m\u001b[1;33m\u001b[0m\u001b[0m\n\u001b[1;32m---> 14\u001b[1;33m     \u001b[0mresponse\u001b[0m \u001b[1;33m=\u001b[0m \u001b[0mgeolocator\u001b[0m\u001b[1;33m.\u001b[0m\u001b[0mreverse\u001b[0m\u001b[1;33m(\u001b[0m\u001b[0mquery\u001b[0m\u001b[1;33m)\u001b[0m\u001b[1;33m\u001b[0m\u001b[1;33m\u001b[0m\u001b[0m\n\u001b[0m\u001b[0;32m     15\u001b[0m \u001b[1;33m\u001b[0m\u001b[0m\n\u001b[0;32m     16\u001b[0m \u001b[1;31m#populate data\u001b[0m\u001b[1;33m\u001b[0m\u001b[1;33m\u001b[0m\u001b[1;33m\u001b[0m\u001b[0m\n",
      "\u001b[1;32m~\\anaconda3\\envs\\Curso Meigarom python do zero\\lib\\site-packages\\geopy\\geocoders\\nominatim.py\u001b[0m in \u001b[0;36mreverse\u001b[1;34m(self, query, exactly_one, timeout, language, addressdetails, zoom)\u001b[0m\n\u001b[0;32m    360\u001b[0m         \u001b[0mlogger\u001b[0m\u001b[1;33m.\u001b[0m\u001b[0mdebug\u001b[0m\u001b[1;33m(\u001b[0m\u001b[1;34m\"%s.reverse: %s\"\u001b[0m\u001b[1;33m,\u001b[0m \u001b[0mself\u001b[0m\u001b[1;33m.\u001b[0m\u001b[0m__class__\u001b[0m\u001b[1;33m.\u001b[0m\u001b[0m__name__\u001b[0m\u001b[1;33m,\u001b[0m \u001b[0murl\u001b[0m\u001b[1;33m)\u001b[0m\u001b[1;33m\u001b[0m\u001b[1;33m\u001b[0m\u001b[0m\n\u001b[0;32m    361\u001b[0m         \u001b[0mcallback\u001b[0m \u001b[1;33m=\u001b[0m \u001b[0mpartial\u001b[0m\u001b[1;33m(\u001b[0m\u001b[0mself\u001b[0m\u001b[1;33m.\u001b[0m\u001b[0m_parse_json\u001b[0m\u001b[1;33m,\u001b[0m \u001b[0mexactly_one\u001b[0m\u001b[1;33m=\u001b[0m\u001b[0mexactly_one\u001b[0m\u001b[1;33m)\u001b[0m\u001b[1;33m\u001b[0m\u001b[1;33m\u001b[0m\u001b[0m\n\u001b[1;32m--> 362\u001b[1;33m         \u001b[1;32mreturn\u001b[0m \u001b[0mself\u001b[0m\u001b[1;33m.\u001b[0m\u001b[0m_call_geocoder\u001b[0m\u001b[1;33m(\u001b[0m\u001b[0murl\u001b[0m\u001b[1;33m,\u001b[0m \u001b[0mcallback\u001b[0m\u001b[1;33m,\u001b[0m \u001b[0mtimeout\u001b[0m\u001b[1;33m=\u001b[0m\u001b[0mtimeout\u001b[0m\u001b[1;33m)\u001b[0m\u001b[1;33m\u001b[0m\u001b[1;33m\u001b[0m\u001b[0m\n\u001b[0m\u001b[0;32m    363\u001b[0m \u001b[1;33m\u001b[0m\u001b[0m\n\u001b[0;32m    364\u001b[0m     \u001b[1;32mdef\u001b[0m \u001b[0m_parse_code\u001b[0m\u001b[1;33m(\u001b[0m\u001b[0mself\u001b[0m\u001b[1;33m,\u001b[0m \u001b[0mplace\u001b[0m\u001b[1;33m)\u001b[0m\u001b[1;33m:\u001b[0m\u001b[1;33m\u001b[0m\u001b[1;33m\u001b[0m\u001b[0m\n",
      "\u001b[1;32m~\\anaconda3\\envs\\Curso Meigarom python do zero\\lib\\site-packages\\geopy\\geocoders\\base.py\u001b[0m in \u001b[0;36m_call_geocoder\u001b[1;34m(self, url, callback, timeout, is_json, headers)\u001b[0m\n\u001b[0;32m    358\u001b[0m         \u001b[1;32mtry\u001b[0m\u001b[1;33m:\u001b[0m\u001b[1;33m\u001b[0m\u001b[1;33m\u001b[0m\u001b[0m\n\u001b[0;32m    359\u001b[0m             \u001b[1;32mif\u001b[0m \u001b[0mis_json\u001b[0m\u001b[1;33m:\u001b[0m\u001b[1;33m\u001b[0m\u001b[1;33m\u001b[0m\u001b[0m\n\u001b[1;32m--> 360\u001b[1;33m                 \u001b[0mresult\u001b[0m \u001b[1;33m=\u001b[0m \u001b[0mself\u001b[0m\u001b[1;33m.\u001b[0m\u001b[0madapter\u001b[0m\u001b[1;33m.\u001b[0m\u001b[0mget_json\u001b[0m\u001b[1;33m(\u001b[0m\u001b[0murl\u001b[0m\u001b[1;33m,\u001b[0m \u001b[0mtimeout\u001b[0m\u001b[1;33m=\u001b[0m\u001b[0mtimeout\u001b[0m\u001b[1;33m,\u001b[0m \u001b[0mheaders\u001b[0m\u001b[1;33m=\u001b[0m\u001b[0mreq_headers\u001b[0m\u001b[1;33m)\u001b[0m\u001b[1;33m\u001b[0m\u001b[1;33m\u001b[0m\u001b[0m\n\u001b[0m\u001b[0;32m    361\u001b[0m             \u001b[1;32melse\u001b[0m\u001b[1;33m:\u001b[0m\u001b[1;33m\u001b[0m\u001b[1;33m\u001b[0m\u001b[0m\n\u001b[0;32m    362\u001b[0m                 \u001b[0mresult\u001b[0m \u001b[1;33m=\u001b[0m \u001b[0mself\u001b[0m\u001b[1;33m.\u001b[0m\u001b[0madapter\u001b[0m\u001b[1;33m.\u001b[0m\u001b[0mget_text\u001b[0m\u001b[1;33m(\u001b[0m\u001b[0murl\u001b[0m\u001b[1;33m,\u001b[0m \u001b[0mtimeout\u001b[0m\u001b[1;33m=\u001b[0m\u001b[0mtimeout\u001b[0m\u001b[1;33m,\u001b[0m \u001b[0mheaders\u001b[0m\u001b[1;33m=\u001b[0m\u001b[0mreq_headers\u001b[0m\u001b[1;33m)\u001b[0m\u001b[1;33m\u001b[0m\u001b[1;33m\u001b[0m\u001b[0m\n",
      "\u001b[1;32m~\\anaconda3\\envs\\Curso Meigarom python do zero\\lib\\site-packages\\geopy\\adapters.py\u001b[0m in \u001b[0;36mget_json\u001b[1;34m(self, url, timeout, headers)\u001b[0m\n\u001b[0;32m    375\u001b[0m \u001b[1;33m\u001b[0m\u001b[0m\n\u001b[0;32m    376\u001b[0m     \u001b[1;32mdef\u001b[0m \u001b[0mget_json\u001b[0m\u001b[1;33m(\u001b[0m\u001b[0mself\u001b[0m\u001b[1;33m,\u001b[0m \u001b[0murl\u001b[0m\u001b[1;33m,\u001b[0m \u001b[1;33m*\u001b[0m\u001b[1;33m,\u001b[0m \u001b[0mtimeout\u001b[0m\u001b[1;33m,\u001b[0m \u001b[0mheaders\u001b[0m\u001b[1;33m)\u001b[0m\u001b[1;33m:\u001b[0m\u001b[1;33m\u001b[0m\u001b[1;33m\u001b[0m\u001b[0m\n\u001b[1;32m--> 377\u001b[1;33m         \u001b[0mresp\u001b[0m \u001b[1;33m=\u001b[0m \u001b[0mself\u001b[0m\u001b[1;33m.\u001b[0m\u001b[0m_request\u001b[0m\u001b[1;33m(\u001b[0m\u001b[0murl\u001b[0m\u001b[1;33m,\u001b[0m \u001b[0mtimeout\u001b[0m\u001b[1;33m=\u001b[0m\u001b[0mtimeout\u001b[0m\u001b[1;33m,\u001b[0m \u001b[0mheaders\u001b[0m\u001b[1;33m=\u001b[0m\u001b[0mheaders\u001b[0m\u001b[1;33m)\u001b[0m\u001b[1;33m\u001b[0m\u001b[1;33m\u001b[0m\u001b[0m\n\u001b[0m\u001b[0;32m    378\u001b[0m         \u001b[1;32mtry\u001b[0m\u001b[1;33m:\u001b[0m\u001b[1;33m\u001b[0m\u001b[1;33m\u001b[0m\u001b[0m\n\u001b[0;32m    379\u001b[0m             \u001b[1;32mreturn\u001b[0m \u001b[0mresp\u001b[0m\u001b[1;33m.\u001b[0m\u001b[0mjson\u001b[0m\u001b[1;33m(\u001b[0m\u001b[1;33m)\u001b[0m\u001b[1;33m\u001b[0m\u001b[1;33m\u001b[0m\u001b[0m\n",
      "\u001b[1;32m~\\anaconda3\\envs\\Curso Meigarom python do zero\\lib\\site-packages\\geopy\\adapters.py\u001b[0m in \u001b[0;36m_request\u001b[1;34m(self, url, timeout, headers)\u001b[0m\n\u001b[0;32m    385\u001b[0m     \u001b[1;32mdef\u001b[0m \u001b[0m_request\u001b[0m\u001b[1;33m(\u001b[0m\u001b[0mself\u001b[0m\u001b[1;33m,\u001b[0m \u001b[0murl\u001b[0m\u001b[1;33m,\u001b[0m \u001b[1;33m*\u001b[0m\u001b[1;33m,\u001b[0m \u001b[0mtimeout\u001b[0m\u001b[1;33m,\u001b[0m \u001b[0mheaders\u001b[0m\u001b[1;33m)\u001b[0m\u001b[1;33m:\u001b[0m\u001b[1;33m\u001b[0m\u001b[1;33m\u001b[0m\u001b[0m\n\u001b[0;32m    386\u001b[0m         \u001b[1;32mtry\u001b[0m\u001b[1;33m:\u001b[0m\u001b[1;33m\u001b[0m\u001b[1;33m\u001b[0m\u001b[0m\n\u001b[1;32m--> 387\u001b[1;33m             \u001b[0mresp\u001b[0m \u001b[1;33m=\u001b[0m \u001b[0mself\u001b[0m\u001b[1;33m.\u001b[0m\u001b[0msession\u001b[0m\u001b[1;33m.\u001b[0m\u001b[0mget\u001b[0m\u001b[1;33m(\u001b[0m\u001b[0murl\u001b[0m\u001b[1;33m,\u001b[0m \u001b[0mtimeout\u001b[0m\u001b[1;33m=\u001b[0m\u001b[0mtimeout\u001b[0m\u001b[1;33m,\u001b[0m \u001b[0mheaders\u001b[0m\u001b[1;33m=\u001b[0m\u001b[0mheaders\u001b[0m\u001b[1;33m)\u001b[0m\u001b[1;33m\u001b[0m\u001b[1;33m\u001b[0m\u001b[0m\n\u001b[0m\u001b[0;32m    388\u001b[0m         \u001b[1;32mexcept\u001b[0m \u001b[0mException\u001b[0m \u001b[1;32mas\u001b[0m \u001b[0merror\u001b[0m\u001b[1;33m:\u001b[0m\u001b[1;33m\u001b[0m\u001b[1;33m\u001b[0m\u001b[0m\n\u001b[0;32m    389\u001b[0m             \u001b[0mmessage\u001b[0m \u001b[1;33m=\u001b[0m \u001b[0mstr\u001b[0m\u001b[1;33m(\u001b[0m\u001b[0merror\u001b[0m\u001b[1;33m)\u001b[0m\u001b[1;33m\u001b[0m\u001b[1;33m\u001b[0m\u001b[0m\n",
      "\u001b[1;32m~\\anaconda3\\envs\\Curso Meigarom python do zero\\lib\\site-packages\\requests\\sessions.py\u001b[0m in \u001b[0;36mget\u001b[1;34m(self, url, **kwargs)\u001b[0m\n\u001b[0;32m    553\u001b[0m \u001b[1;33m\u001b[0m\u001b[0m\n\u001b[0;32m    554\u001b[0m         \u001b[0mkwargs\u001b[0m\u001b[1;33m.\u001b[0m\u001b[0msetdefault\u001b[0m\u001b[1;33m(\u001b[0m\u001b[1;34m'allow_redirects'\u001b[0m\u001b[1;33m,\u001b[0m \u001b[1;32mTrue\u001b[0m\u001b[1;33m)\u001b[0m\u001b[1;33m\u001b[0m\u001b[1;33m\u001b[0m\u001b[0m\n\u001b[1;32m--> 555\u001b[1;33m         \u001b[1;32mreturn\u001b[0m \u001b[0mself\u001b[0m\u001b[1;33m.\u001b[0m\u001b[0mrequest\u001b[0m\u001b[1;33m(\u001b[0m\u001b[1;34m'GET'\u001b[0m\u001b[1;33m,\u001b[0m \u001b[0murl\u001b[0m\u001b[1;33m,\u001b[0m \u001b[1;33m**\u001b[0m\u001b[0mkwargs\u001b[0m\u001b[1;33m)\u001b[0m\u001b[1;33m\u001b[0m\u001b[1;33m\u001b[0m\u001b[0m\n\u001b[0m\u001b[0;32m    556\u001b[0m \u001b[1;33m\u001b[0m\u001b[0m\n\u001b[0;32m    557\u001b[0m     \u001b[1;32mdef\u001b[0m \u001b[0moptions\u001b[0m\u001b[1;33m(\u001b[0m\u001b[0mself\u001b[0m\u001b[1;33m,\u001b[0m \u001b[0murl\u001b[0m\u001b[1;33m,\u001b[0m \u001b[1;33m**\u001b[0m\u001b[0mkwargs\u001b[0m\u001b[1;33m)\u001b[0m\u001b[1;33m:\u001b[0m\u001b[1;33m\u001b[0m\u001b[1;33m\u001b[0m\u001b[0m\n",
      "\u001b[1;32m~\\anaconda3\\envs\\Curso Meigarom python do zero\\lib\\site-packages\\requests\\sessions.py\u001b[0m in \u001b[0;36mrequest\u001b[1;34m(self, method, url, params, data, headers, cookies, files, auth, timeout, allow_redirects, proxies, hooks, stream, verify, cert, json)\u001b[0m\n\u001b[0;32m    540\u001b[0m         }\n\u001b[0;32m    541\u001b[0m         \u001b[0msend_kwargs\u001b[0m\u001b[1;33m.\u001b[0m\u001b[0mupdate\u001b[0m\u001b[1;33m(\u001b[0m\u001b[0msettings\u001b[0m\u001b[1;33m)\u001b[0m\u001b[1;33m\u001b[0m\u001b[1;33m\u001b[0m\u001b[0m\n\u001b[1;32m--> 542\u001b[1;33m         \u001b[0mresp\u001b[0m \u001b[1;33m=\u001b[0m \u001b[0mself\u001b[0m\u001b[1;33m.\u001b[0m\u001b[0msend\u001b[0m\u001b[1;33m(\u001b[0m\u001b[0mprep\u001b[0m\u001b[1;33m,\u001b[0m \u001b[1;33m**\u001b[0m\u001b[0msend_kwargs\u001b[0m\u001b[1;33m)\u001b[0m\u001b[1;33m\u001b[0m\u001b[1;33m\u001b[0m\u001b[0m\n\u001b[0m\u001b[0;32m    543\u001b[0m \u001b[1;33m\u001b[0m\u001b[0m\n\u001b[0;32m    544\u001b[0m         \u001b[1;32mreturn\u001b[0m \u001b[0mresp\u001b[0m\u001b[1;33m\u001b[0m\u001b[1;33m\u001b[0m\u001b[0m\n",
      "\u001b[1;32m~\\anaconda3\\envs\\Curso Meigarom python do zero\\lib\\site-packages\\requests\\sessions.py\u001b[0m in \u001b[0;36msend\u001b[1;34m(self, request, **kwargs)\u001b[0m\n\u001b[0;32m    653\u001b[0m \u001b[1;33m\u001b[0m\u001b[0m\n\u001b[0;32m    654\u001b[0m         \u001b[1;31m# Send the request\u001b[0m\u001b[1;33m\u001b[0m\u001b[1;33m\u001b[0m\u001b[1;33m\u001b[0m\u001b[0m\n\u001b[1;32m--> 655\u001b[1;33m         \u001b[0mr\u001b[0m \u001b[1;33m=\u001b[0m \u001b[0madapter\u001b[0m\u001b[1;33m.\u001b[0m\u001b[0msend\u001b[0m\u001b[1;33m(\u001b[0m\u001b[0mrequest\u001b[0m\u001b[1;33m,\u001b[0m \u001b[1;33m**\u001b[0m\u001b[0mkwargs\u001b[0m\u001b[1;33m)\u001b[0m\u001b[1;33m\u001b[0m\u001b[1;33m\u001b[0m\u001b[0m\n\u001b[0m\u001b[0;32m    656\u001b[0m \u001b[1;33m\u001b[0m\u001b[0m\n\u001b[0;32m    657\u001b[0m         \u001b[1;31m# Total elapsed time of the request (approximately)\u001b[0m\u001b[1;33m\u001b[0m\u001b[1;33m\u001b[0m\u001b[1;33m\u001b[0m\u001b[0m\n",
      "\u001b[1;32m~\\anaconda3\\envs\\Curso Meigarom python do zero\\lib\\site-packages\\requests\\adapters.py\u001b[0m in \u001b[0;36msend\u001b[1;34m(self, request, stream, timeout, verify, cert, proxies)\u001b[0m\n\u001b[0;32m    437\u001b[0m         \u001b[1;32mtry\u001b[0m\u001b[1;33m:\u001b[0m\u001b[1;33m\u001b[0m\u001b[1;33m\u001b[0m\u001b[0m\n\u001b[0;32m    438\u001b[0m             \u001b[1;32mif\u001b[0m \u001b[1;32mnot\u001b[0m \u001b[0mchunked\u001b[0m\u001b[1;33m:\u001b[0m\u001b[1;33m\u001b[0m\u001b[1;33m\u001b[0m\u001b[0m\n\u001b[1;32m--> 439\u001b[1;33m                 resp = conn.urlopen(\n\u001b[0m\u001b[0;32m    440\u001b[0m                     \u001b[0mmethod\u001b[0m\u001b[1;33m=\u001b[0m\u001b[0mrequest\u001b[0m\u001b[1;33m.\u001b[0m\u001b[0mmethod\u001b[0m\u001b[1;33m,\u001b[0m\u001b[1;33m\u001b[0m\u001b[1;33m\u001b[0m\u001b[0m\n\u001b[0;32m    441\u001b[0m                     \u001b[0murl\u001b[0m\u001b[1;33m=\u001b[0m\u001b[0murl\u001b[0m\u001b[1;33m,\u001b[0m\u001b[1;33m\u001b[0m\u001b[1;33m\u001b[0m\u001b[0m\n",
      "\u001b[1;32m~\\anaconda3\\envs\\Curso Meigarom python do zero\\lib\\site-packages\\urllib3\\connectionpool.py\u001b[0m in \u001b[0;36murlopen\u001b[1;34m(self, method, url, body, headers, retries, redirect, assert_same_host, timeout, pool_timeout, release_conn, chunked, body_pos, **response_kw)\u001b[0m\n\u001b[0;32m    697\u001b[0m \u001b[1;33m\u001b[0m\u001b[0m\n\u001b[0;32m    698\u001b[0m             \u001b[1;31m# Make the request on the httplib connection object.\u001b[0m\u001b[1;33m\u001b[0m\u001b[1;33m\u001b[0m\u001b[1;33m\u001b[0m\u001b[0m\n\u001b[1;32m--> 699\u001b[1;33m             httplib_response = self._make_request(\n\u001b[0m\u001b[0;32m    700\u001b[0m                 \u001b[0mconn\u001b[0m\u001b[1;33m,\u001b[0m\u001b[1;33m\u001b[0m\u001b[1;33m\u001b[0m\u001b[0m\n\u001b[0;32m    701\u001b[0m                 \u001b[0mmethod\u001b[0m\u001b[1;33m,\u001b[0m\u001b[1;33m\u001b[0m\u001b[1;33m\u001b[0m\u001b[0m\n",
      "\u001b[1;32m~\\anaconda3\\envs\\Curso Meigarom python do zero\\lib\\site-packages\\urllib3\\connectionpool.py\u001b[0m in \u001b[0;36m_make_request\u001b[1;34m(self, conn, method, url, timeout, chunked, **httplib_request_kw)\u001b[0m\n\u001b[0;32m    443\u001b[0m                     \u001b[1;31m# Python 3 (including for exceptions like SystemExit).\u001b[0m\u001b[1;33m\u001b[0m\u001b[1;33m\u001b[0m\u001b[1;33m\u001b[0m\u001b[0m\n\u001b[0;32m    444\u001b[0m                     \u001b[1;31m# Otherwise it looks like a bug in the code.\u001b[0m\u001b[1;33m\u001b[0m\u001b[1;33m\u001b[0m\u001b[1;33m\u001b[0m\u001b[0m\n\u001b[1;32m--> 445\u001b[1;33m                     \u001b[0msix\u001b[0m\u001b[1;33m.\u001b[0m\u001b[0mraise_from\u001b[0m\u001b[1;33m(\u001b[0m\u001b[0me\u001b[0m\u001b[1;33m,\u001b[0m \u001b[1;32mNone\u001b[0m\u001b[1;33m)\u001b[0m\u001b[1;33m\u001b[0m\u001b[1;33m\u001b[0m\u001b[0m\n\u001b[0m\u001b[0;32m    446\u001b[0m         \u001b[1;32mexcept\u001b[0m \u001b[1;33m(\u001b[0m\u001b[0mSocketTimeout\u001b[0m\u001b[1;33m,\u001b[0m \u001b[0mBaseSSLError\u001b[0m\u001b[1;33m,\u001b[0m \u001b[0mSocketError\u001b[0m\u001b[1;33m)\u001b[0m \u001b[1;32mas\u001b[0m \u001b[0me\u001b[0m\u001b[1;33m:\u001b[0m\u001b[1;33m\u001b[0m\u001b[1;33m\u001b[0m\u001b[0m\n\u001b[0;32m    447\u001b[0m             \u001b[0mself\u001b[0m\u001b[1;33m.\u001b[0m\u001b[0m_raise_timeout\u001b[0m\u001b[1;33m(\u001b[0m\u001b[0merr\u001b[0m\u001b[1;33m=\u001b[0m\u001b[0me\u001b[0m\u001b[1;33m,\u001b[0m \u001b[0murl\u001b[0m\u001b[1;33m=\u001b[0m\u001b[0murl\u001b[0m\u001b[1;33m,\u001b[0m \u001b[0mtimeout_value\u001b[0m\u001b[1;33m=\u001b[0m\u001b[0mread_timeout\u001b[0m\u001b[1;33m)\u001b[0m\u001b[1;33m\u001b[0m\u001b[1;33m\u001b[0m\u001b[0m\n",
      "\u001b[1;32m~\\anaconda3\\envs\\Curso Meigarom python do zero\\lib\\site-packages\\urllib3\\packages\\six.py\u001b[0m in \u001b[0;36mraise_from\u001b[1;34m(value, from_value)\u001b[0m\n",
      "\u001b[1;32m~\\anaconda3\\envs\\Curso Meigarom python do zero\\lib\\site-packages\\urllib3\\connectionpool.py\u001b[0m in \u001b[0;36m_make_request\u001b[1;34m(self, conn, method, url, timeout, chunked, **httplib_request_kw)\u001b[0m\n\u001b[0;32m    438\u001b[0m                 \u001b[1;31m# Python 3\u001b[0m\u001b[1;33m\u001b[0m\u001b[1;33m\u001b[0m\u001b[1;33m\u001b[0m\u001b[0m\n\u001b[0;32m    439\u001b[0m                 \u001b[1;32mtry\u001b[0m\u001b[1;33m:\u001b[0m\u001b[1;33m\u001b[0m\u001b[1;33m\u001b[0m\u001b[0m\n\u001b[1;32m--> 440\u001b[1;33m                     \u001b[0mhttplib_response\u001b[0m \u001b[1;33m=\u001b[0m \u001b[0mconn\u001b[0m\u001b[1;33m.\u001b[0m\u001b[0mgetresponse\u001b[0m\u001b[1;33m(\u001b[0m\u001b[1;33m)\u001b[0m\u001b[1;33m\u001b[0m\u001b[1;33m\u001b[0m\u001b[0m\n\u001b[0m\u001b[0;32m    441\u001b[0m                 \u001b[1;32mexcept\u001b[0m \u001b[0mBaseException\u001b[0m \u001b[1;32mas\u001b[0m \u001b[0me\u001b[0m\u001b[1;33m:\u001b[0m\u001b[1;33m\u001b[0m\u001b[1;33m\u001b[0m\u001b[0m\n\u001b[0;32m    442\u001b[0m                     \u001b[1;31m# Remove the TypeError from the exception chain in\u001b[0m\u001b[1;33m\u001b[0m\u001b[1;33m\u001b[0m\u001b[1;33m\u001b[0m\u001b[0m\n",
      "\u001b[1;32m~\\anaconda3\\envs\\Curso Meigarom python do zero\\lib\\http\\client.py\u001b[0m in \u001b[0;36mgetresponse\u001b[1;34m(self)\u001b[0m\n\u001b[0;32m   1345\u001b[0m         \u001b[1;32mtry\u001b[0m\u001b[1;33m:\u001b[0m\u001b[1;33m\u001b[0m\u001b[1;33m\u001b[0m\u001b[0m\n\u001b[0;32m   1346\u001b[0m             \u001b[1;32mtry\u001b[0m\u001b[1;33m:\u001b[0m\u001b[1;33m\u001b[0m\u001b[1;33m\u001b[0m\u001b[0m\n\u001b[1;32m-> 1347\u001b[1;33m                 \u001b[0mresponse\u001b[0m\u001b[1;33m.\u001b[0m\u001b[0mbegin\u001b[0m\u001b[1;33m(\u001b[0m\u001b[1;33m)\u001b[0m\u001b[1;33m\u001b[0m\u001b[1;33m\u001b[0m\u001b[0m\n\u001b[0m\u001b[0;32m   1348\u001b[0m             \u001b[1;32mexcept\u001b[0m \u001b[0mConnectionError\u001b[0m\u001b[1;33m:\u001b[0m\u001b[1;33m\u001b[0m\u001b[1;33m\u001b[0m\u001b[0m\n\u001b[0;32m   1349\u001b[0m                 \u001b[0mself\u001b[0m\u001b[1;33m.\u001b[0m\u001b[0mclose\u001b[0m\u001b[1;33m(\u001b[0m\u001b[1;33m)\u001b[0m\u001b[1;33m\u001b[0m\u001b[1;33m\u001b[0m\u001b[0m\n",
      "\u001b[1;32m~\\anaconda3\\envs\\Curso Meigarom python do zero\\lib\\http\\client.py\u001b[0m in \u001b[0;36mbegin\u001b[1;34m(self)\u001b[0m\n\u001b[0;32m    305\u001b[0m         \u001b[1;31m# read until we get a non-100 response\u001b[0m\u001b[1;33m\u001b[0m\u001b[1;33m\u001b[0m\u001b[1;33m\u001b[0m\u001b[0m\n\u001b[0;32m    306\u001b[0m         \u001b[1;32mwhile\u001b[0m \u001b[1;32mTrue\u001b[0m\u001b[1;33m:\u001b[0m\u001b[1;33m\u001b[0m\u001b[1;33m\u001b[0m\u001b[0m\n\u001b[1;32m--> 307\u001b[1;33m             \u001b[0mversion\u001b[0m\u001b[1;33m,\u001b[0m \u001b[0mstatus\u001b[0m\u001b[1;33m,\u001b[0m \u001b[0mreason\u001b[0m \u001b[1;33m=\u001b[0m \u001b[0mself\u001b[0m\u001b[1;33m.\u001b[0m\u001b[0m_read_status\u001b[0m\u001b[1;33m(\u001b[0m\u001b[1;33m)\u001b[0m\u001b[1;33m\u001b[0m\u001b[1;33m\u001b[0m\u001b[0m\n\u001b[0m\u001b[0;32m    308\u001b[0m             \u001b[1;32mif\u001b[0m \u001b[0mstatus\u001b[0m \u001b[1;33m!=\u001b[0m \u001b[0mCONTINUE\u001b[0m\u001b[1;33m:\u001b[0m\u001b[1;33m\u001b[0m\u001b[1;33m\u001b[0m\u001b[0m\n\u001b[0;32m    309\u001b[0m                 \u001b[1;32mbreak\u001b[0m\u001b[1;33m\u001b[0m\u001b[1;33m\u001b[0m\u001b[0m\n",
      "\u001b[1;32m~\\anaconda3\\envs\\Curso Meigarom python do zero\\lib\\http\\client.py\u001b[0m in \u001b[0;36m_read_status\u001b[1;34m(self)\u001b[0m\n\u001b[0;32m    266\u001b[0m \u001b[1;33m\u001b[0m\u001b[0m\n\u001b[0;32m    267\u001b[0m     \u001b[1;32mdef\u001b[0m \u001b[0m_read_status\u001b[0m\u001b[1;33m(\u001b[0m\u001b[0mself\u001b[0m\u001b[1;33m)\u001b[0m\u001b[1;33m:\u001b[0m\u001b[1;33m\u001b[0m\u001b[1;33m\u001b[0m\u001b[0m\n\u001b[1;32m--> 268\u001b[1;33m         \u001b[0mline\u001b[0m \u001b[1;33m=\u001b[0m \u001b[0mstr\u001b[0m\u001b[1;33m(\u001b[0m\u001b[0mself\u001b[0m\u001b[1;33m.\u001b[0m\u001b[0mfp\u001b[0m\u001b[1;33m.\u001b[0m\u001b[0mreadline\u001b[0m\u001b[1;33m(\u001b[0m\u001b[0m_MAXLINE\u001b[0m \u001b[1;33m+\u001b[0m \u001b[1;36m1\u001b[0m\u001b[1;33m)\u001b[0m\u001b[1;33m,\u001b[0m \u001b[1;34m\"iso-8859-1\"\u001b[0m\u001b[1;33m)\u001b[0m\u001b[1;33m\u001b[0m\u001b[1;33m\u001b[0m\u001b[0m\n\u001b[0m\u001b[0;32m    269\u001b[0m         \u001b[1;32mif\u001b[0m \u001b[0mlen\u001b[0m\u001b[1;33m(\u001b[0m\u001b[0mline\u001b[0m\u001b[1;33m)\u001b[0m \u001b[1;33m>\u001b[0m \u001b[0m_MAXLINE\u001b[0m\u001b[1;33m:\u001b[0m\u001b[1;33m\u001b[0m\u001b[1;33m\u001b[0m\u001b[0m\n\u001b[0;32m    270\u001b[0m             \u001b[1;32mraise\u001b[0m \u001b[0mLineTooLong\u001b[0m\u001b[1;33m(\u001b[0m\u001b[1;34m\"status line\"\u001b[0m\u001b[1;33m)\u001b[0m\u001b[1;33m\u001b[0m\u001b[1;33m\u001b[0m\u001b[0m\n",
      "\u001b[1;32m~\\anaconda3\\envs\\Curso Meigarom python do zero\\lib\\socket.py\u001b[0m in \u001b[0;36mreadinto\u001b[1;34m(self, b)\u001b[0m\n\u001b[0;32m    667\u001b[0m         \u001b[1;32mwhile\u001b[0m \u001b[1;32mTrue\u001b[0m\u001b[1;33m:\u001b[0m\u001b[1;33m\u001b[0m\u001b[1;33m\u001b[0m\u001b[0m\n\u001b[0;32m    668\u001b[0m             \u001b[1;32mtry\u001b[0m\u001b[1;33m:\u001b[0m\u001b[1;33m\u001b[0m\u001b[1;33m\u001b[0m\u001b[0m\n\u001b[1;32m--> 669\u001b[1;33m                 \u001b[1;32mreturn\u001b[0m \u001b[0mself\u001b[0m\u001b[1;33m.\u001b[0m\u001b[0m_sock\u001b[0m\u001b[1;33m.\u001b[0m\u001b[0mrecv_into\u001b[0m\u001b[1;33m(\u001b[0m\u001b[0mb\u001b[0m\u001b[1;33m)\u001b[0m\u001b[1;33m\u001b[0m\u001b[1;33m\u001b[0m\u001b[0m\n\u001b[0m\u001b[0;32m    670\u001b[0m             \u001b[1;32mexcept\u001b[0m \u001b[0mtimeout\u001b[0m\u001b[1;33m:\u001b[0m\u001b[1;33m\u001b[0m\u001b[1;33m\u001b[0m\u001b[0m\n\u001b[0;32m    671\u001b[0m                 \u001b[0mself\u001b[0m\u001b[1;33m.\u001b[0m\u001b[0m_timeout_occurred\u001b[0m \u001b[1;33m=\u001b[0m \u001b[1;32mTrue\u001b[0m\u001b[1;33m\u001b[0m\u001b[1;33m\u001b[0m\u001b[0m\n",
      "\u001b[1;32m~\\anaconda3\\envs\\Curso Meigarom python do zero\\lib\\ssl.py\u001b[0m in \u001b[0;36mrecv_into\u001b[1;34m(self, buffer, nbytes, flags)\u001b[0m\n\u001b[0;32m   1239\u001b[0m                   \u001b[1;34m\"non-zero flags not allowed in calls to recv_into() on %s\"\u001b[0m \u001b[1;33m%\u001b[0m\u001b[1;33m\u001b[0m\u001b[1;33m\u001b[0m\u001b[0m\n\u001b[0;32m   1240\u001b[0m                   self.__class__)\n\u001b[1;32m-> 1241\u001b[1;33m             \u001b[1;32mreturn\u001b[0m \u001b[0mself\u001b[0m\u001b[1;33m.\u001b[0m\u001b[0mread\u001b[0m\u001b[1;33m(\u001b[0m\u001b[0mnbytes\u001b[0m\u001b[1;33m,\u001b[0m \u001b[0mbuffer\u001b[0m\u001b[1;33m)\u001b[0m\u001b[1;33m\u001b[0m\u001b[1;33m\u001b[0m\u001b[0m\n\u001b[0m\u001b[0;32m   1242\u001b[0m         \u001b[1;32melse\u001b[0m\u001b[1;33m:\u001b[0m\u001b[1;33m\u001b[0m\u001b[1;33m\u001b[0m\u001b[0m\n\u001b[0;32m   1243\u001b[0m             \u001b[1;32mreturn\u001b[0m \u001b[0msuper\u001b[0m\u001b[1;33m(\u001b[0m\u001b[1;33m)\u001b[0m\u001b[1;33m.\u001b[0m\u001b[0mrecv_into\u001b[0m\u001b[1;33m(\u001b[0m\u001b[0mbuffer\u001b[0m\u001b[1;33m,\u001b[0m \u001b[0mnbytes\u001b[0m\u001b[1;33m,\u001b[0m \u001b[0mflags\u001b[0m\u001b[1;33m)\u001b[0m\u001b[1;33m\u001b[0m\u001b[1;33m\u001b[0m\u001b[0m\n",
      "\u001b[1;32m~\\anaconda3\\envs\\Curso Meigarom python do zero\\lib\\ssl.py\u001b[0m in \u001b[0;36mread\u001b[1;34m(self, len, buffer)\u001b[0m\n\u001b[0;32m   1097\u001b[0m         \u001b[1;32mtry\u001b[0m\u001b[1;33m:\u001b[0m\u001b[1;33m\u001b[0m\u001b[1;33m\u001b[0m\u001b[0m\n\u001b[0;32m   1098\u001b[0m             \u001b[1;32mif\u001b[0m \u001b[0mbuffer\u001b[0m \u001b[1;32mis\u001b[0m \u001b[1;32mnot\u001b[0m \u001b[1;32mNone\u001b[0m\u001b[1;33m:\u001b[0m\u001b[1;33m\u001b[0m\u001b[1;33m\u001b[0m\u001b[0m\n\u001b[1;32m-> 1099\u001b[1;33m                 \u001b[1;32mreturn\u001b[0m \u001b[0mself\u001b[0m\u001b[1;33m.\u001b[0m\u001b[0m_sslobj\u001b[0m\u001b[1;33m.\u001b[0m\u001b[0mread\u001b[0m\u001b[1;33m(\u001b[0m\u001b[0mlen\u001b[0m\u001b[1;33m,\u001b[0m \u001b[0mbuffer\u001b[0m\u001b[1;33m)\u001b[0m\u001b[1;33m\u001b[0m\u001b[1;33m\u001b[0m\u001b[0m\n\u001b[0m\u001b[0;32m   1100\u001b[0m             \u001b[1;32melse\u001b[0m\u001b[1;33m:\u001b[0m\u001b[1;33m\u001b[0m\u001b[1;33m\u001b[0m\u001b[0m\n\u001b[0;32m   1101\u001b[0m                 \u001b[1;32mreturn\u001b[0m \u001b[0mself\u001b[0m\u001b[1;33m.\u001b[0m\u001b[0m_sslobj\u001b[0m\u001b[1;33m.\u001b[0m\u001b[0mread\u001b[0m\u001b[1;33m(\u001b[0m\u001b[0mlen\u001b[0m\u001b[1;33m)\u001b[0m\u001b[1;33m\u001b[0m\u001b[1;33m\u001b[0m\u001b[0m\n",
      "\u001b[1;31mKeyboardInterrupt\u001b[0m: "
     ]
    }
   ],
   "source": [
    "#Create empty rows\n",
    "df['place_id']='NA'\n",
    "df['osm_type']='NA'\n",
    "df['country']='NA'\n",
    "df['country_code']='NA'\n",
    "\n",
    "geolocator=Nominatim(user_agent='geoapiExercises')\n",
    "\n",
    "for i in range(len(df)):\n",
    "    print('Loop:{}/{}'.format(i,len(df)))\n",
    "    query=(str(df.loc[i,'lat'])+','+str(df.loc[i,'long']))\n",
    "\n",
    "#API Request\n",
    "    response = geolocator.reverse(query)\n",
    "\n",
    "#populate data\n",
    "    if 'place_id' in response.raw:\n",
    "        df.loc[i,'place_id']=response.raw['place_id']\n",
    "    if 'osm_type' in response.raw:\n",
    "        df.loc[i,'osm_type']        =response.raw['osm_type']\n",
    "    if 'country' in response.raw['address']:\n",
    "        df.loc[i,'country']        =response.raw['address']['county']\n",
    "    if 'country_code' in response.raw['address']:\n",
    "        df.loc[i,'country_code']      =response.raw['address']['country_code']\n"
   ]
  },
  {
   "cell_type": "code",
   "execution_count": 10,
   "id": "sufficient-premises",
   "metadata": {
    "ExecuteTime": {
     "end_time": "2021-02-10T19:58:58.966862Z",
     "start_time": "2021-02-10T19:58:58.704581Z"
    },
    "hidden": true
   },
   "outputs": [],
   "source": [
    "df.to_csv('kc_house_data_API2.csv')"
   ]
  },
  {
   "cell_type": "code",
   "execution_count": 11,
   "id": "chicken-popularity",
   "metadata": {
    "ExecuteTime": {
     "end_time": "2021-02-10T19:58:59.203800Z",
     "start_time": "2021-02-10T19:58:59.082574Z"
    },
    "hidden": true
   },
   "outputs": [],
   "source": [
    "df1=pd.read_csv('Datasets/kc_house_data_API2.csv')"
   ]
  },
  {
   "cell_type": "markdown",
   "id": "framed-seminar",
   "metadata": {
    "heading_collapsed": true
   },
   "source": [
    "## Adicione os seguintes filtros no mapa:\n",
    "- Tamanho mínimo da área da sala de estar\n",
    "- Número mínino de banheiros\n",
    "- Valor máximo do preço\n",
    "- Tamanho máximo da área do porão\n",
    "- Filtro das condições do imóvel\n",
    "- Filtro por ano de construção"
   ]
  },
  {
   "cell_type": "code",
   "execution_count": 12,
   "id": "common-jerusalem",
   "metadata": {
    "ExecuteTime": {
     "end_time": "2021-02-10T19:59:00.490047Z",
     "start_time": "2021-02-10T19:59:00.087048Z"
    },
    "hidden": true
   },
   "outputs": [],
   "source": [
    "#1. import bibliotecas\n",
    "import pandas as pd\n",
    "import ipywidgets as widgets \n",
    "from ipywidgets import fixed\n",
    "import plotly.express as px\n",
    "df=pd.read_csv('Datasets/kc_house_data_API2.csv')"
   ]
  },
  {
   "cell_type": "code",
   "execution_count": 13,
   "id": "brown-burst",
   "metadata": {
    "ExecuteTime": {
     "end_time": "2021-02-10T19:59:00.570046Z",
     "start_time": "2021-02-10T19:59:00.560074Z"
    },
    "hidden": true
   },
   "outputs": [],
   "source": [
    "#2. Criar as colunas necessarias\n"
   ]
  },
  {
   "cell_type": "code",
   "execution_count": 14,
   "id": "elegant-fellow",
   "metadata": {
    "ExecuteTime": {
     "end_time": "2021-02-10T19:59:00.776066Z",
     "start_time": "2021-02-10T19:59:00.733049Z"
    },
    "hidden": true
   },
   "outputs": [],
   "source": [
    "#3. Criar os botoes interativos\n",
    "\n",
    "style={'description_width':'initial'}\n",
    "\n",
    "living_limit=widgets.IntSlider(\n",
    "    value=2080,\n",
    "    min=290,\n",
    "    max=13540,\n",
    "    step=1,\n",
    "    description='Minimum sqft living',\n",
    "    disable=False,\n",
    "    style=style\n",
    ")\n",
    "\n",
    "bathrooms_limit=widgets.IntSlider(\n",
    "    value=2,\n",
    "    min=0,\n",
    "    max=8,\n",
    "    step=1,\n",
    "    description='Minimum bathrooms',\n",
    "    disable=False,\n",
    "    style=style\n",
    ")\n",
    "\n",
    "price_limit=widgets.IntSlider(\n",
    "    value=540000,\n",
    "    min=75000,\n",
    "    max=77000000,\n",
    "    step=1,\n",
    "    description='Maximun price',\n",
    "    disable=False,\n",
    "    style=style\n",
    ")\n",
    "\n",
    "lot_limit=widgets.IntSlider(\n",
    "    value=15100,\n",
    "    min=520,\n",
    "    max=1651359,\n",
    "    step=1,\n",
    "    description='Maximum sqft lot',\n",
    "    disable=False,\n",
    "    style=style\n",
    ")\n"
   ]
  },
  {
   "cell_type": "code",
   "execution_count": 15,
   "id": "responsible-throw",
   "metadata": {
    "ExecuteTime": {
     "end_time": "2021-02-10T19:59:00.951048Z",
     "start_time": "2021-02-10T19:59:00.934047Z"
    },
    "hidden": true
   },
   "outputs": [],
   "source": [
    "#4. criar as funçoes que farao os filtros\n",
    "def update_map(df,living,bathrooms,price,lot):\n",
    "    houses=df[(df['sqft_living']>=living)&(df['bathrooms']>=bathrooms)&(df['price']<=price)&(df['sqft_lot']<=lot)][['id','lat','long','price','sqft_living','bathrooms','sqft_lot']]\n",
    "\n",
    "\n",
    "#5. Plotar o mapa(dentro da funcao)\n",
    "    fig=px.scatter_mapbox(houses,\n",
    "        lat='lat',\n",
    "        lon='long',\n",
    "        color='sqft_living',\n",
    "        size='price',\n",
    "        color_continuous_scale=px.colors.cyclical.IceFire,\n",
    "        size_max=15,\n",
    "        zoom=10)\n",
    "    fig.update_layout(mapbox_style='open-street-map')\n",
    "    fig.update_layout(height=300,margin={'r':0,'t':0,'l':0,'b':0})\n",
    "    fig.show()"
   ]
  },
  {
   "cell_type": "code",
   "execution_count": 16,
   "id": "diagnostic-shelf",
   "metadata": {
    "ExecuteTime": {
     "end_time": "2021-02-10T19:59:02.661578Z",
     "start_time": "2021-02-10T19:59:01.137100Z"
    },
    "hidden": true
   },
   "outputs": [
    {
     "data": {
      "application/vnd.jupyter.widget-view+json": {
       "model_id": "350ae25ea38d41e88d61f95d3c10753c",
       "version_major": 2,
       "version_minor": 0
      },
      "text/plain": [
       "interactive(children=(IntSlider(value=2080, description='Minimum sqft living', max=13540, min=290, style=Slide…"
      ]
     },
     "metadata": {},
     "output_type": "display_data"
    }
   ],
   "source": [
    "#6. Escrever a interaçao  \n",
    "widgets.interactive(update_map,df=fixed(df),living=living_limit,bathrooms=bathrooms_limit,price=price_limit,lot=lot_limit)"
   ]
  },
  {
   "cell_type": "markdown",
   "id": "viral-survivor",
   "metadata": {
    "ExecuteTime": {
     "end_time": "2021-02-03T19:11:31.021169Z",
     "start_time": "2021-02-03T19:11:07.479Z"
    },
    "heading_collapsed": true
   },
   "source": [
    "## Adicione os seguintes filtros no Dashboard:\n",
    "\n",
    "- Filtro por data disponível para compra\n",
    "- Filtro por ano de renovação\n",
    "- Filtro se possui vista para água ou não.\n"
   ]
  },
  {
   "cell_type": "code",
   "execution_count": 1,
   "id": "closing-criminal",
   "metadata": {
    "ExecuteTime": {
     "end_time": "2021-02-12T09:18:33.440857Z",
     "start_time": "2021-02-12T09:18:31.729345Z"
    },
    "hidden": true
   },
   "outputs": [],
   "source": [
    "import ipywidgets as widgets \n",
    "import pandas as pd\n",
    "from matplotlib import gridspec\n",
    "from matplotlib import pyplot as plt\n",
    "from ipywidgets import fixed\n",
    "df=pd.read_csv('Datasets/kc_house_data_API2.csv')"
   ]
  },
  {
   "cell_type": "code",
   "execution_count": 12,
   "id": "dried-camping",
   "metadata": {
    "ExecuteTime": {
     "end_time": "2021-02-12T09:57:59.622740Z",
     "start_time": "2021-02-12T09:57:59.250406Z"
    },
    "hidden": true
   },
   "outputs": [],
   "source": [
    "#df['year']=pd.to_datetime(df['date']).dt.strftime('%Y')\n",
    "#df['year_week']=pd.to_datetime(df['date']).dt.strftime('%Y-%U')\n",
    "\n",
    "#data de compra\n",
    "df['date']=pd.to_datetime(df['date']).dt.strftime('%Y-%m-%d')\n",
    "\n",
    "#data de renovacao\n",
    "df['year_renew']=pd.to_datetime(df['yr_renovated']).dt.strftime('%Y')\n",
    "\n",
    "#vista mar sim ou nao\n",
    "df['is_waterfront']=df['waterfront'].apply(lambda x:'yes' if x==1 else 'no')\n",
    "\n",
    "#https://ipywidgets.readthedocs.io/en/stable/examples/Widget%20List.html(ver outros botoes)\n",
    "\n",
    "date_limit=widgets.SelectionSlider(\n",
    "    options=df['date'].sort_values().unique().tolist(),\n",
    "    value='2014-12-01',\n",
    "    description='Disponivel para compra',\n",
    "    continuosus_update=False,\n",
    "    orientation='horizontal',\n",
    "    readout=True\n",
    ")\n",
    "\n",
    "renew_limit=widgets.SelectionSlider(\n",
    "    options=df['year_renew'].sort_values().unique().tolist(),\n",
    "    value='1970',\n",
    "    description='Data de renovo',\n",
    "    continuosus_update=False,\n",
    "    orientation='horizontal',\n",
    "    readout=True\n",
    ")\n",
    "\n",
    "# renew_limit=widgets.Dropdown(\n",
    "#     options=df['year_renew'].sort_values().unique().tolist(),\n",
    "#     value   ='1971',\n",
    "#     description='Data de renovo',\n",
    "#     disable=False,\n",
    "# )\n",
    "\n",
    "waterfront_bar=widgets.Dropdown(\n",
    "    options=df['is_waterfront'].unique().tolist(),\n",
    "    value   ='no',\n",
    "    description='Water View',\n",
    "    disable=False,\n",
    ")\n",
    "\n",
    "\n",
    "def update_map(df, limit,renew,waterfront):\n",
    "    df=df[(df['date']>=limit)&(df['year_renew']>=renew)&(df['is_waterfront']==waterfront)].copy()\n",
    "\n",
    "    \n",
    "    fig=plt.figure(figsize=(21,12))\n",
    "    specs = gridspec.GridSpec(ncols=2, nrows=2, figure=fig)\n",
    "    \n",
    "    ax1=fig.add_subplot(specs[0,:]) #first rows\n",
    "    ax2=fig.add_subplot(specs[1,0]) #second rows   first column\n",
    "    ax3=fig.add_subplot(specs[1,1]) #second rows   second column\n",
    "    \n",
    "   \n",
    "    \n",
    "    by_date=df[['id','date']].groupby('date').sum().reset_index()\n",
    "    ax1.bar (by_date['date'], by_date['id'])\n",
    "      \n",
    "    by_renew=df[['id','year_renew']].groupby('year_renew').sum().reset_index()\n",
    "    ax2.bar (by_renew['year_renew'], by_renew['id'])\n",
    "    \n",
    "    by_water=df[['id','is_waterfront']].groupby('is_waterfront').sum().reset_index()\n",
    "    ax3.bar (by_water['is_waterfront'], by_water['id'])    \n",
    "    plt.xticks(rotation=60);"
   ]
  },
  {
   "cell_type": "code",
   "execution_count": 13,
   "id": "royal-neighbor",
   "metadata": {
    "ExecuteTime": {
     "end_time": "2021-02-12T09:58:04.538452Z",
     "start_time": "2021-02-12T09:58:00.647902Z"
    },
    "hidden": true
   },
   "outputs": [
    {
     "data": {
      "application/vnd.jupyter.widget-view+json": {
       "model_id": "04edd86bc9804aecb59ffccffb1edc8e",
       "version_major": 2,
       "version_minor": 0
      },
      "text/plain": [
       "interactive(children=(SelectionSlider(description='Disponivel para compra', index=212, options=('2014-05-02', …"
      ]
     },
     "metadata": {},
     "output_type": "display_data"
    }
   ],
   "source": [
    "widgets.interactive(update_map,df=fixed(df), limit=date_limit, renew=renew_limit,waterfront=waterfront_bar)"
   ]
  },
  {
   "cell_type": "code",
   "execution_count": null,
   "id": "arranged-container",
   "metadata": {
    "hidden": true
   },
   "outputs": [],
   "source": []
  }
 ],
 "metadata": {
  "kernelspec": {
   "display_name": "Python 3",
   "language": "python",
   "name": "python3"
  },
  "language_info": {
   "codemirror_mode": {
    "name": "ipython",
    "version": 3
   },
   "file_extension": ".py",
   "mimetype": "text/x-python",
   "name": "python",
   "nbconvert_exporter": "python",
   "pygments_lexer": "ipython3",
   "version": "3.8.5"
  },
  "toc": {
   "base_numbering": 1,
   "nav_menu": {},
   "number_sections": true,
   "sideBar": true,
   "skip_h1_title": true,
   "title_cell": "Table of Contents",
   "title_sidebar": "Contents",
   "toc_cell": false,
   "toc_position": {
    "height": "calc(100% - 180px)",
    "left": "10px",
    "top": "150px",
    "width": "165px"
   },
   "toc_section_display": true,
   "toc_window_display": true
  }
 },
 "nbformat": 4,
 "nbformat_minor": 5
}
