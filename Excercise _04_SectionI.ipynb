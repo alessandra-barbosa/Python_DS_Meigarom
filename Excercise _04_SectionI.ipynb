{
 "cells": [
  {
   "cell_type": "markdown",
   "metadata": {
    "ExecuteTime": {
     "end_time": "2021-02-02T23:20:50.016843Z",
     "start_time": "2021-02-02T23:20:49.952645Z"
    }
   },
   "source": [
    "\n",
    "# 0.0 Import"
   ]
  },
  {
   "cell_type": "code",
   "execution_count": 2,
   "metadata": {
    "ExecuteTime": {
     "end_time": "2021-02-11T15:17:04.036991Z",
     "start_time": "2021-02-11T15:17:03.271187Z"
    }
   },
   "outputs": [
    {
     "name": "stdout",
     "output_type": "stream",
     "text": [
      "Collecting pandas\n",
      "  Downloading pandas-1.2.3-cp38-cp38-manylinux1_x86_64.whl (9.7 MB)\n",
      "\u001b[K     |████████████████████████████████| 9.7 MB 3.0 MB/s eta 0:00:01\n",
      "\u001b[?25hRequirement already satisfied: python-dateutil>=2.7.3 in /home/alessandra-barbosa/.pyenv/versions/3.8.8/envs/PythondoZero/lib/python3.8/site-packages (from pandas) (2.8.1)\n",
      "Collecting pytz>=2017.3\n",
      "  Downloading pytz-2021.1-py2.py3-none-any.whl (510 kB)\n",
      "\u001b[K     |████████████████████████████████| 510 kB 9.3 MB/s eta 0:00:01\n",
      "\u001b[?25hCollecting numpy>=1.16.5\n",
      "  Downloading numpy-1.20.1-cp38-cp38-manylinux2010_x86_64.whl (15.4 MB)\n",
      "\u001b[K     |████████████████████████████████| 15.4 MB 10.6 MB/s eta 0:00:01    |██████▋                         | 3.2 MB 16.2 MB/s eta 0:00:01\n",
      "\u001b[?25hRequirement already satisfied: six>=1.5 in /home/alessandra-barbosa/.pyenv/versions/3.8.8/envs/PythondoZero/lib/python3.8/site-packages (from python-dateutil>=2.7.3->pandas) (1.15.0)\n",
      "Installing collected packages: pytz, numpy, pandas\n",
      "^C\n",
      "\u001b[31mERROR: Operation cancelled by user\u001b[0m\n"
     ]
    }
   ],
   "source": [
    "!pip install pandas\n",
    "import pandas as pd\n",
    "df=pd.read_csv('Datasets/kc_house_data.csv')"
   ]
  },
  {
   "cell_type": "markdown",
   "metadata": {},
   "source": [
    "# 1.0 Qual a quantidade de imoveis por nivel?\n"
   ]
  },
  {
   "cell_type": "code",
   "execution_count": 3,
   "metadata": {
    "ExecuteTime": {
     "end_time": "2021-02-11T15:17:04.051915Z",
     "start_time": "2021-02-11T15:17:04.039830Z"
    }
   },
   "outputs": [],
   "source": [
    "##nivel 0: preço entre 0 e 321,950 $\n",
    "##nivel 1: preço entre 321,950 $ e 450,000$\n",
    "##nivel 2: preço entre 450,000$ e 645,000 $\n",
    "##nivel 3: preço acima de 645,000 "
   ]
  },
  {
   "cell_type": "code",
   "execution_count": 4,
   "metadata": {
    "ExecuteTime": {
     "end_time": "2021-02-11T15:17:04.082156Z",
     "start_time": "2021-02-11T15:17:04.054487Z"
    }
   },
   "outputs": [],
   "source": [
    "df['level']='None'\n",
    "df.loc[(df['price']>=0)&(df['price']<321950),'level']='level_0'\n",
    "df.loc[(df['price']>=321950)&(df['price']<450000),'level']='level_1'\n",
    "df.loc[(df['price']>=450000)&(df['price']<645000),'level']='level_2'\n",
    "df.loc[df['price']>=645000,'level']='level_3'\n"
   ]
  },
  {
   "cell_type": "markdown",
   "metadata": {},
   "source": [
    "## Loop for"
   ]
  },
  {
   "cell_type": "code",
   "execution_count": null,
   "metadata": {
    "ExecuteTime": {
     "end_time": "2021-02-11T15:17:25.362936Z",
     "start_time": "2021-02-11T15:17:04.086884Z"
    }
   },
   "outputs": [],
   "source": [
    "for i in range(len(df)):\n",
    "    if (df.loc[i,'price']>=0)&(df.loc[i, 'price']<321950):\n",
    "        df.loc[i, 'nivel']='level_0'\n",
    "    elif (df.loc[i,'price']>=321950)&(df.loc[i, 'price']<450000):\n",
    "        df.loc[i, 'nivel']='level_1'\n",
    "    elif (df.loc[i,'price']>=450000)&(df.loc[i, 'price']<645000):\n",
    "        df.loc[i, 'nivel']='level_2'\n",
    "    else:\n",
    "        df.loc[i, 'nivel']='level_3'"
   ]
  },
  {
   "cell_type": "markdown",
   "metadata": {},
   "source": [
    "## While \n"
   ]
  },
  {
   "cell_type": "code",
   "execution_count": 5,
   "metadata": {
    "ExecuteTime": {
     "end_time": "2021-02-11T15:17:32.896157Z",
     "start_time": "2021-02-11T15:17:25.367933Z"
    }
   },
   "outputs": [],
   "source": [
    "import requests as r\n",
    "url='https://jobs.github.com/positions.json?description=python&page=1'\n",
    "reponse=r.request('GET',url)"
   ]
  },
  {
   "cell_type": "markdown",
   "metadata": {},
   "source": [
    "##Json"
   ]
  },
  {
   "cell_type": "code",
   "execution_count": 6,
   "metadata": {
    "ExecuteTime": {
     "end_time": "2021-02-11T15:17:32.942003Z",
     "start_time": "2021-02-11T15:17:32.902051Z"
    }
   },
   "outputs": [
    {
     "data": {
      "text/plain": [
       "{'id': '798a5097-75bf-4659-90fd-78caf35999a1',\n",
       " 'type': 'Full Time',\n",
       " 'url': 'https://jobs.github.com/positions/798a5097-75bf-4659-90fd-78caf35999a1',\n",
       " 'created_at': 'Thu Feb 11 15:07:30 UTC 2021',\n",
       " 'company': 'Rijksoverheid',\n",
       " 'company_url': 'http://www.werkenvoornederland.nl',\n",
       " 'location': 'Den Haag',\n",
       " 'title': 'Clusterbeheerder / systeembeheerder',\n",
       " 'description': '<p><strong>Clusterbeheerder / systeembeheerder</strong>\\n<strong>Ministerie van Justitie en Veiligheid, Nederlands Forensisch Instituut</strong></p>\\n<p><strong>Functieomschrijving</strong>\\nAls clusterbeheerder ga je aan de slag bij team Crypto, dat verantwoordelijk is voor het ontcijferen van digitale bewijsstukken. Jij wordt verantwoordelijk voor het beheer en onderhoud van het rekencluster bij het Nederlands Forensisch Instituut (NFI). De taken en verantwoordelijkheden die bij deze functie horen, zijn het beheer en onderhoud van de rekennodes, het volgen van updates in de gebruikte software, en het testen en in-stalleren van nieuwe hard- en software. Een onderdeel van jouw baan zal zijn om de be-schikbaarheid van de rekennodes te controleren, en de bedrijfszekerheid te verbeteren door middel van het opzetten en onderhouden van een geautomatiseerd monitoringsysteem.</p>\\n<p>Wij zoeken iemand die het onderzoeksteam ondersteunt in het uitvoeren van slimme wachtwoordaanvallen op het rekencluster. Iemand die kan helpen met het inrichten van back-ups, zorgen dat alle scripts op orde zijn, het automatisch inspoelen van rekennodes, zorgen dat alle services draaien, vervangen van kapotte hardware en het debuggen van problematische hardware.</p>\\n<p>Daarnaast werken we aan het verbeteren van het aanvalsdistributieplatform dat we in gebruik hebben, en maken we veel van deze verbeteringen met enige regelmaat publiek: <a href=\"https://github.com/s3inlc/hashtopolis/pull/649\">https://github.com/s3inlc/hashtopolis/pull/649</a>\\nHet kunnen werken aan deze code is een pre.</p>\\n<p>Via onderstaande link kun je luisteren naar een podcast waarin een crypto onderzoeker uit ons team wordt geïnterviewd (vanaf 1:23).</p>\\n<p><a href=\"https://open.spotify.com/episode/5EUGuYFQ8Ui4uM2G4gtOyP?si=LAnrdUx7QrK642NxtCA2zA\">https://open.spotify.com/episode/5EUGuYFQ8Ui4uM2G4gtOyP?si=LAnrdUx7QrK642NxtCA2zA</a></p>\\n<p>of</p>\\n<p><a href=\"https://www.nrc.nl/brandedcontent/nfi/podcastserie-de-stille-getuige\">https://www.nrc.nl/brandedcontent/nfi/podcastserie-de-stille-getuige</a></p>\\n<p>Spreekt dit je aan? Solliciteer! Wij gaan graag met je in gesprek!</p>\\n<p><strong>Functie-eisen</strong></p>\\n<ul>\\n<li>Je hebt een hbo werk- en denkniveau, en een afgeronde opleiding in een technische richting (minimaal MBO 4), bij voorkeur informatica of ICT.</li>\\n<li>Je hebt relevante werkervaring als systeembeheerder of een vergelijkbare functie.</li>\\n<li>Je hebt ervaring met het opzetten en onderhouden van gedistribueerde systemen met behulp van provisioningsystemen zoals bijvoorbeeld PXE, Ansible, MAAS, ROCKS, of soortgelijke tooling.</li>\\n<li>Je hebt ervaring met scripting- en programmeertalen zoals Bash, Python, en PHP.</li>\\n<li>Ervaring met het aansturen van GPU\\'s is een pre.</li>\\n<li>Ervaring met web-based applicaties en PHP is een pre.</li>\\n<li>Je hebt een goed begrip van hardware in computersystemen.</li>\\n<li>Je hebt de analytische vaardigheden en de praktische kennis om hardware te kunnen debuggen: je weet wel raad met een moederbord dat niet door de POST heen komt.</li>\\n</ul>\\n<p><strong>Wat vinden wij nog meer belangrijk?</strong>\\nJe hebt een proactieve en resultaatgerichte instelling. Je ziet het als uitdaging om je taken in deze functie zoveel mogelijk te automatiseren. Je hebt affiniteit met cryptografie, cryp-to-analyse en hardware, en je kan goed samenwerken. Tot slot ben je zelfstandig waar het kan, en vraag je om ondersteuning wanneer dat nodig is.</p>\\n<p><strong>Arbeidsvoorwaarden</strong>\\n<strong>Salarisniveau:</strong> schaal 9, schaal 10\\n<strong>Salarisomschrijving:</strong> Op deze functie is het Functiegebouw Rijk van toepassing.\\n<strong>Maandsalaris min.</strong> €2.756 – max. €4.430 bruto, overeenkomstig met schaal 10 CAO Rijk.\\nInschaling vindt plaats op basis van je opleiding en ervaring. De mogelijkheid bestaat dat je in beginsel via een aanvangsschaal wordt aangesteld. Deze kan één schaal lager zijn dan de betreffende functieschaal.</p>\\n<p>Voor de functie geldt een tijdelijke arbeidsmarkttoelage van 8% die aan het vermelde maandsalarissalaris wordt toegevoegd.\\n<strong>Maandsalaris:</strong> Min €2.756 – Max. €4.430 (bruto)\\n<strong>Dienstverband:</strong> Arbeidsovereenkomst voor bepaalde tijd met uitzicht op onbepaalde tijd\\n<strong>Contractduur:</strong> Tijdelijke aanstelling met uitzicht op een vaste aanstelling\\n<strong>Minimaal aantal uren per week:</strong> 36\\n<strong>Maximaal aantal uren per week:</strong> 36</p>\\n<p><strong>Overige arbeidsvoorwaarden</strong>\\nNaast het salaris ontvang je een Individueel Keuzebudget (IKB). Het IKB bestaat uit geld (16,37% van je bruto jaarsalaris) en tijd. Met het IKB maak jij de keuzes die bij jou pas-sen en kun je een deel van je arbeidsvoorwaarden zelf samenstellen. Je kunt er bijvoor-beeld voor kiezen om een deel van je maandinkomen te laten uitbetalen wanneer jij dat wenst. Ook kun je dit budget omzetten in verlof en andersom of besteden aan fiscaal vriendelijke doelen. De Rijksoverheid hecht sterk aan persoonlijke groei en loopbaanont-wikkeling en biedt daarvoor tal van mogelijkheden. Tot de secundaire arbeidsvoorwaarden behoren onder meer verschillende studiefaciliteiten, bedrijfsfitness, volledige vergoeding van je OV-reiskosten woon-werkverkeer en gedeeltelijk betaald ouderschapsverlof</p>\\n<p><strong>Wat kunnen wij jou nog meer bieden?</strong>\\nJe leert werken met de nieuwste en snelste hardware, in een continu veranderende en ontwikkelende omgeving. Samen met gepassioneerde collega’s werk je aan een maat-schappelijk relevant doel.</p>\\n<p><strong>Bijzonderheden</strong></p>\\n<ul>\\n<li>Solliciteren? Nadat je via de sollicitatiebutton hebt gereageerd kun je jouw motivatie en cv als Word- of pdf-bestand uploaden. We nodigen je graag uit om in je motivatiebrief ook iets over jezelf te vertellen.</li>\\n<li>Het toetsen van de integriteit van onze nieuwe collega’s is voor het Nederlands Forensisch Instituut van groot belang. Voor deze functie geldt dat er een veiligheidsonderzoek niveau B moet worden opgestart bij de Algemene Inlichtingen- en Veiligheidsdienst. Ook een geheimhoudingsverklaring maakt deel uit van het sollicitatieproces.</li>\\n<li>Wanneer je als rijksambtenaar een beroep doet op een voorrangspositie, stuur dan ook een kopie van je beschikking mee.</li>\\n<li>Een assessment (psychologische en vaardigheidstest) maakt deel uit van het sollicitatieproces, net als het opvragen van referenties en het inzetten van een (online) screening.</li>\\n<li>Aan deze tekst kunnen geen rechten worden ontleend.</li>\\n<li>Acquisitie naar aanleiding van deze vacature wordt niet op prijs gesteld.</li>\\n</ul>\\n',\n",
       " 'how_to_apply': '<p>Het Rijk hecht waarde aan een diverse en inclusieve organisatie. Werken in divers samengestelde teams maakt ons effectiever, innovatiever en het werk leuker. Eenieder wordt daarom uitgenodigd te <a href=\"https://www.werkenvoornederland.nl/vacatures/clusterbeheerder-systeembeheerder-NFI-2020-0037?utm_source=github&amp;utm_medium=jobboard&amp;utm_campaign=&amp;utm_term=nfi200037&amp;utm_content=574\">solliciteren</a>.</p>\\n<p>Acquisitie naar aanleiding van deze vacature wordt niet op prijs gesteld.</p>\\n',\n",
       " 'company_logo': 'https://jobs.github.com/rails/active_storage/blobs/eyJfcmFpbHMiOnsibWVzc2FnZSI6IkJBaHBBdXFZIiwiZXhwIjpudWxsLCJwdXIiOiJibG9iX2lkIn19--41ee3895c7c3d15f3d701968ffc39afaab4653a8/Rijksoverheid.jpg'}"
      ]
     },
     "execution_count": 6,
     "metadata": {},
     "output_type": "execute_result"
    }
   ],
   "source": [
    "reponse.json()[0]"
   ]
  },
  {
   "cell_type": "markdown",
   "metadata": {},
   "source": [
    "##Trasformare em data frame"
   ]
  },
  {
   "cell_type": "code",
   "execution_count": 7,
   "metadata": {
    "ExecuteTime": {
     "end_time": "2021-02-11T15:17:32.973037Z",
     "start_time": "2021-02-11T15:17:32.945003Z"
    }
   },
   "outputs": [
    {
     "data": {
      "text/html": [
       "<div>\n",
       "<style scoped>\n",
       "    .dataframe tbody tr th:only-of-type {\n",
       "        vertical-align: middle;\n",
       "    }\n",
       "\n",
       "    .dataframe tbody tr th {\n",
       "        vertical-align: top;\n",
       "    }\n",
       "\n",
       "    .dataframe thead th {\n",
       "        text-align: right;\n",
       "    }\n",
       "</style>\n",
       "<table border=\"1\" class=\"dataframe\">\n",
       "  <thead>\n",
       "    <tr style=\"text-align: right;\">\n",
       "      <th></th>\n",
       "      <th>id</th>\n",
       "      <th>type</th>\n",
       "    </tr>\n",
       "  </thead>\n",
       "  <tbody>\n",
       "    <tr>\n",
       "      <th>0</th>\n",
       "      <td>798a5097-75bf-4659-90fd-78caf35999a1</td>\n",
       "      <td>Full Time</td>\n",
       "    </tr>\n",
       "  </tbody>\n",
       "</table>\n",
       "</div>"
      ],
      "text/plain": [
       "                                     id       type\n",
       "0  798a5097-75bf-4659-90fd-78caf35999a1  Full Time"
      ]
     },
     "execution_count": 7,
     "metadata": {},
     "output_type": "execute_result"
    }
   ],
   "source": [
    "df1=pd.DataFrame(reponse.json()[0], index=[0])\n",
    "df1[['id','type']]"
   ]
  },
  {
   "cell_type": "markdown",
   "metadata": {},
   "source": [
    "##While"
   ]
  },
  {
   "cell_type": "code",
   "execution_count": 8,
   "metadata": {
    "ExecuteTime": {
     "end_time": "2021-02-11T15:17:58.654920Z",
     "start_time": "2021-02-11T15:17:32.975689Z"
    }
   },
   "outputs": [
    {
     "name": "stdout",
     "output_type": "stream",
     "text": [
      "page:1\n",
      "page:2\n",
      "page:3\n",
      "page:4\n",
      "page:5\n",
      "page:6\n",
      "page:7\n"
     ]
    }
   ],
   "source": [
    "import requests as r\n",
    "dataset=pd.DataFrame()\n",
    "i=1\n",
    "while True:\n",
    "    print('page:{}'.format(i))\n",
    "    url='https://jobs.github.com/positions.json?&page={}'.format(i)\n",
    "    response=r.request('GET',url)\n",
    "    \n",
    "    if response.json()!=[]:\n",
    "        data=response.json()[0]\n",
    "        df1=pd.DataFrame(data,index=[0])\n",
    "        dataset=pd.concat([dataset,df1],axis=0)\n",
    "        i=i+1\n",
    "    else:\n",
    "        break\n"
   ]
  },
  {
   "cell_type": "markdown",
   "metadata": {},
   "source": [
    "# 2.0 Adicione informaçoes ao imovel"
   ]
  },
  {
   "cell_type": "raw",
   "metadata": {},
   "source": [
    "# 2.0 Adicione informaçoes ao imovel\n",
    "##O nome da rua \n",
    "##o nome do imovel\n",
    "##o nome do bairro\n",
    "##o nome da cidade \n",
    "##o nome do estado\n",
    "\n",
    "#Onde tem essas informaçoes?\n",
    "#--------Tem no banco de dados\n",
    "#--------Tem na pasta docolega\n",
    "#--------Tem em um API\n",
    "#--------Qual dado eu tenho na minha BD\n",
    "#--------Como coletar esse dado\n"
   ]
  },
  {
   "cell_type": "markdown",
   "metadata": {
    "ExecuteTime": {
     "end_time": "2021-02-08T10:40:15.702199Z",
     "start_time": "2021-02-08T10:40:15.691080Z"
    }
   },
   "source": [
    "##Preparaçao"
   ]
  },
  {
   "cell_type": "code",
   "execution_count": null,
   "metadata": {
    "ExecuteTime": {
     "end_time": "2021-02-08T10:35:36.021683Z",
     "start_time": "2021-02-08T10:35:35.984454Z"
    }
   },
   "outputs": [],
   "source": [
    "df.head()"
   ]
  },
  {
   "cell_type": "code",
   "execution_count": null,
   "metadata": {
    "ExecuteTime": {
     "end_time": "2021-02-08T10:36:41.703143Z",
     "start_time": "2021-02-08T10:36:41.356356Z"
    }
   },
   "outputs": [],
   "source": [
    "from geopy.geocoders import Nominatim\n",
    "geolocator=Nominatim(user_agent='geoapiExercises')\n",
    "response=geolocator.reverse('47.5112,-122.257')"
   ]
  },
  {
   "cell_type": "code",
   "execution_count": null,
   "metadata": {
    "ExecuteTime": {
     "end_time": "2021-02-08T10:37:29.189505Z",
     "start_time": "2021-02-08T10:37:29.168972Z"
    }
   },
   "outputs": [],
   "source": [
    "response"
   ]
  },
  {
   "cell_type": "code",
   "execution_count": null,
   "metadata": {
    "ExecuteTime": {
     "end_time": "2021-02-08T10:38:04.637376Z",
     "start_time": "2021-02-08T10:38:04.622685Z"
    }
   },
   "outputs": [],
   "source": [
    "response.raw"
   ]
  },
  {
   "cell_type": "code",
   "execution_count": null,
   "metadata": {
    "ExecuteTime": {
     "end_time": "2021-02-08T10:43:33.157390Z",
     "start_time": "2021-02-08T10:43:33.139748Z"
    }
   },
   "outputs": [],
   "source": [
    "response.raw['address']"
   ]
  },
  {
   "cell_type": "code",
   "execution_count": null,
   "metadata": {
    "ExecuteTime": {
     "end_time": "2021-02-08T10:55:54.602863Z",
     "start_time": "2021-02-08T10:55:54.589632Z"
    }
   },
   "outputs": [],
   "source": [
    "print(response.raw['address']['road'])\n",
    "print(response.raw['address']['neighbourhood'])\n",
    "print(response.raw['address']['city'])\n",
    "print(response.raw['address']['county'])\n",
    "print(response.raw['address']['state'])\n",
    "print(response.raw['address']['postcode'])\n",
    "print(response.raw['address']['country'])\n",
    "print(response.raw['address']['country_code'])"
   ]
  },
  {
   "cell_type": "markdown",
   "metadata": {
    "heading_collapsed": true
   },
   "source": [
    "#modelo"
   ]
  },
  {
   "cell_type": "code",
   "execution_count": null,
   "metadata": {
    "ExecuteTime": {
     "end_time": "2021-02-04T09:33:24.154682Z",
     "start_time": "2021-02-04T09:33:18.924081Z"
    },
    "hidden": true
   },
   "outputs": [],
   "source": [
    "import pandas as pd\n",
    "from geopy.geocoders import Nominatim\n",
    "data=pd.read_csv('Datasets/kc_house_data.csv')\n",
    "\n",
    "#Create empty rows\n",
    "data['road']='NA'\n",
    "data['house_number']='NA'\n",
    "data['city']='NA'\n",
    "data['county']='NA'\n",
    "data['state']='NA'\n",
    "data['neighbourhood']='NA'\n",
    "\n",
    "geolocator=Nominatim(user_agent='geoapiExercises')\n",
    "\n",
    "for i in range(len(data)):\n",
    "    print('Loop:{}/{}'.format(i,len(data)))\n",
    "    \n",
    "    query=str(data.loc[i,'lat'])+','+str(data.loc[i,'long'])\n",
    "\n",
    "#API Request\n",
    "    response=geolocator.reverse(query)\n",
    "\n",
    "#populate data\n",
    "    if 'house_number' in response.raw['address']:\n",
    "        data.loc[i,'house_number']=response.raw['address']['house_number']\n",
    "    if 'road' in response.raw['address']:\n",
    "        data.loc[i,'road']        =response.raw['address']['road']\n",
    "    if 'city' in response.raw['address']:\n",
    "        data.loc[i,'city']        =response.raw['address']['city']\n",
    "    if 'county' in response.raw['address']:\n",
    "        data.loc[i,'county']      =response.raw['address']['county']\n",
    "    if 'state' in response.raw['address']:\n",
    "        data.loc[i,'state']       =response.raw['address']['state']\n",
    "    if 'neighbourhood' in response.raw['address']:\n",
    "        data.loc[i,'neighbourhood']=response.raw['address']['neighbourhood']\n",
    "\n",
    "\n",
    "\n"
   ]
  },
  {
   "cell_type": "code",
   "execution_count": null,
   "metadata": {
    "hidden": true
   },
   "outputs": [],
   "source": [
    "data.head()"
   ]
  },
  {
   "cell_type": "markdown",
   "metadata": {
    "heading_collapsed": true
   },
   "source": [
    "# 3.0 Adicione o nivel do imovel no mapa com uma cor"
   ]
  },
  {
   "cell_type": "markdown",
   "metadata": {
    "heading_collapsed": true
   },
   "source": [
    "# 4.0 Adicione o preço do imovel como o tamanho do ponto no mapa"
   ]
  },
  {
   "cell_type": "code",
   "execution_count": null,
   "metadata": {
    "ExecuteTime": {
     "end_time": "2021-02-09T15:31:42.567151Z",
     "start_time": "2021-02-09T15:31:35.369536Z"
    },
    "hidden": true
   },
   "outputs": [],
   "source": [
    "import plotly.express as px\n",
    "df=pd.read_csv('Datasets/kc_house_data.csv')\n",
    "\n",
    "houses=df[['id','long', 'lat', 'price']].copy()\n",
    "for i in range(len(houses)):\n",
    "    if  houses.loc[i,'price']<=321950:\n",
    "        houses.loc[i,'level']=0\n",
    "        \n",
    "    elif (houses.loc[i,'price']>321950)&(houses.loc[i, 'price']<=450000):\n",
    "        houses.loc[i, 'level']=1\n",
    "        \n",
    "    elif (houses.loc[i,'price']>=450000)&(houses.loc[i, 'price']<=645000):\n",
    "        houses.loc[i, 'level']=2\n",
    "        \n",
    "    else:\n",
    "        houses.loc[i, 'level']=3\n",
    "        \n",
    "houses['level']=houses['level'].astype(int)\n",
    "\n",
    "fig=px.scatter_mapbox(houses,\n",
    "                  lat='lat',\n",
    "                  lon='long',\n",
    "                  color='level',\n",
    "                  size='price',\n",
    "                  color_continuous_scale=px.colors.cyclical.IceFire,\n",
    "                  size_max=15,\n",
    "                  zoom=10)\n",
    "\n",
    "fig.update_layout(mapbox_style='open-street-map')\n",
    "fig.update_layout(height=300,margin={'r':0,'t':0,'l':0,'b':0})\n",
    "fig.show()"
   ]
  },
  {
   "cell_type": "markdown",
   "metadata": {},
   "source": [
    "# 5.0 Adicione opçoes de filtro para eu fazer as minhas proprias analises"
   ]
  },
  {
   "cell_type": "raw",
   "metadata": {},
   "source": [
    "##visualizar imoveis com vista pro mar ou nao\n",
    "##filtrar atè um certo valor de preço"
   ]
  },
  {
   "cell_type": "raw",
   "metadata": {},
   "source": [
    "1. Importar as bibliotecas\n",
    "2. Criar as colunas necessarias\n",
    "3. Criar os botoes interativos\n",
    "4. criar as funçoes que farao os filtros\n",
    "5. Plotar o mapa\n",
    "6. Escrever a interaçao"
   ]
  },
  {
   "cell_type": "code",
   "execution_count": null,
   "metadata": {
    "ExecuteTime": {
     "end_time": "2021-02-10T13:56:46.852996Z",
     "start_time": "2021-02-10T13:56:45.836833Z"
    }
   },
   "outputs": [],
   "source": [
    "#1.Importar as bibliotecas\n",
    "import pandas as pd\n",
    "import plotly.express as px\n",
    "import ipywidgets as widgets \n",
    "from ipywidgets import fixed\n",
    "df=pd.read_csv('Datasets/kc_house_data.csv')"
   ]
  },
  {
   "cell_type": "code",
   "execution_count": null,
   "metadata": {
    "ExecuteTime": {
     "end_time": "2021-02-10T13:56:49.479402Z",
     "start_time": "2021-02-10T13:56:46.863966Z"
    }
   },
   "outputs": [],
   "source": [
    "#2.Criar as colunas necessarias\n",
    "\n",
    "df['is_waterfront']=df['waterfront'].apply(lambda x:'yes' \n",
    "                                           if x==1 else 'no')\n",
    "\n",
    "df['level']=df['price'].apply(lambda x:  0 if x<321950 else\n",
    "                                         1 if (x>321950)&(x<450000)else\n",
    "                                         2 if (x>450000)&(x<645000)else 3)\n",
    "df['level']=df['level'].astype(int)\n",
    "style={'description_width':'initial'}\n",
    "\n",
    "#3. Criar os botoes interativos\n",
    "price_limit=widgets.IntSlider(\n",
    "    value=540000,\n",
    "    min=75000,\n",
    "    max=77000000,\n",
    "    step=1,\n",
    "    description='Maximun price',\n",
    "    disable=False,\n",
    "    style=style\n",
    ")\n",
    "\n",
    "waterfront_bar=widgets.Dropdown(\n",
    "    options=df['is_waterfront'].unique().tolist(),\n",
    "    value   ='yes',\n",
    "    description='Water View',\n",
    "    disable=False,\n",
    ")\n",
    "\n",
    "#4. criar as funçoes que farao os filtros\n",
    "\n",
    "def update_map(df,waterfront, limit):\n",
    "    houses=df[(df['price']<=limit)&\n",
    "              (df['is_waterfront']==waterfront)][['id','lat','long','price','level']]\n",
    "\n",
    "    \n",
    "#5. Plotar o mapa\n",
    "\n",
    "    fig=px.scatter_mapbox(houses,\n",
    "          lat='lat',\n",
    "          lon='long',\n",
    "          color='level',\n",
    "          size='price',\n",
    "          color_continuous_scale=px.colors.cyclical.IceFire,\n",
    "          size_max=15,\n",
    "          zoom=10)\n",
    "\n",
    "    fig.update_layout(mapbox_style='open-street-map')\n",
    "    fig.update_layout(height=300,margin={'r':0,'t':0,'l':0,'b':0})\n",
    "    fig.show()\n",
    "\n",
    "\n",
    "#5. Escrever a interaçao  \n",
    "widgets.interactive(update_map, df=fixed(df),waterfront=waterfront_bar, limit=price_limit)"
   ]
  },
  {
   "cell_type": "markdown",
   "metadata": {},
   "source": [
    "# 6.0 Adicione opçoes de filtro no ultimo dashboard enviado"
   ]
  },
  {
   "cell_type": "raw",
   "metadata": {},
   "source": [
    "##visualizar valores a partir de uma data disponivel\n",
    "##"
   ]
  },
  {
   "cell_type": "raw",
   "metadata": {},
   "source": [
    "1. Importar as bibliotecas\n",
    "2. Mudar o formato das colunas\n",
    "3. Criar os botoes\n",
    "4. Criar a funçao\n",
    "5. Colocar o dash na identaçao da funçao\n",
    "6. Colocar a interaçao"
   ]
  },
  {
   "cell_type": "code",
   "execution_count": null,
   "metadata": {
    "ExecuteTime": {
     "end_time": "2021-02-10T13:56:51.560738Z",
     "start_time": "2021-02-10T13:56:51.161854Z"
    }
   },
   "outputs": [],
   "source": [
    "import ipywidgets as widgets \n",
    "from matplotlib import gridspec\n",
    "from matplotlib import pyplot as plt"
   ]
  },
  {
   "cell_type": "code",
   "execution_count": null,
   "metadata": {
    "ExecuteTime": {
     "end_time": "2021-02-10T13:56:56.119619Z",
     "start_time": "2021-02-10T13:56:55.548555Z"
    }
   },
   "outputs": [],
   "source": [
    "data=pd.read_csv('Datasets/kc_house_data.csv')\n",
    "\n",
    "#change data format\n",
    "data['year']=pd.to_datetime(df['date']).dt.strftime('%Y')\n",
    "data['date']=pd.to_datetime(df['date']).dt.strftime('%Y-%m-%d')\n",
    "data['year_week']=pd.to_datetime(df['date']).dt.strftime('%Y-%U')\n",
    "\n",
    "#Widgets to control data\n",
    "date_limit=widgets.SelectionSlider(\n",
    "    options=data['date'].sort_values().unique().tolist(),\n",
    "    value='2014-12-01',\n",
    "    description='Disponivel',\n",
    "    continuosus_update=False,\n",
    "    orientation='horizontal',\n",
    "    readout=True\n",
    ")\n",
    "\n",
    "def update_map(df, limit):\n",
    "    df=data[data['date']>=limit].copy()\n",
    "    \n",
    "    fig=plt.figure(figsize=(21,12))\n",
    "    specs = gridspec.GridSpec(ncols=2, nrows=2, figure=fig)\n",
    "    \n",
    "    ax1=fig.add_subplot(specs[0,:]) #first rows\n",
    "    ax2=fig.add_subplot(specs[1,0]) #second rows   first column\n",
    "    ax3=fig.add_subplot(specs[1,1]) #second rows   second column\n",
    "    \n",
    "    by_year=df[['id','year']].groupby('year').sum().reset_index()\n",
    "    ax1.bar (by_year['year'], by_year['id'])\n",
    "    \n",
    "    by_day=df[['id','date']].groupby('date').mean().reset_index()\n",
    "    ax2.plot (by_day['date'], by_day['id'])\n",
    "    ax2.set_title('title:Avg Price by Day')\n",
    "    \n",
    "    by_week_of_year=df[['id','year_week']].groupby('year_week').mean().reset_index()\n",
    "    ax3.bar (by_week_of_year['year_week'], by_week_of_year['id'])\n",
    "    ax3.set_title('title:Avg Price by week of year')\n",
    "    plt.xticks(rotation=60);"
   ]
  },
  {
   "cell_type": "code",
   "execution_count": null,
   "metadata": {
    "ExecuteTime": {
     "end_time": "2021-02-10T13:57:00.788613Z",
     "start_time": "2021-02-10T13:56:56.706373Z"
    }
   },
   "outputs": [],
   "source": [
    "widgets.interactive(update_map,df=fixed(df), limit=date_limit)"
   ]
  },
  {
   "cell_type": "code",
   "execution_count": null,
   "metadata": {},
   "outputs": [],
   "source": []
  }
 ],
 "metadata": {
  "kernelspec": {
   "display_name": "Python 3",
   "language": "python",
   "name": "python3"
  },
  "language_info": {
   "codemirror_mode": {
    "name": "ipython",
    "version": 3
   },
   "file_extension": ".py",
   "mimetype": "text/x-python",
   "name": "python",
   "nbconvert_exporter": "python",
   "pygments_lexer": "ipython3",
   "version": "3.8.8"
  },
  "toc": {
   "base_numbering": 1,
   "nav_menu": {},
   "number_sections": true,
   "sideBar": true,
   "skip_h1_title": false,
   "title_cell": "Table of Contents",
   "title_sidebar": "Contents",
   "toc_cell": false,
   "toc_position": {},
   "toc_section_display": true,
   "toc_window_display": false
  }
 },
 "nbformat": 4,
 "nbformat_minor": 4
}
